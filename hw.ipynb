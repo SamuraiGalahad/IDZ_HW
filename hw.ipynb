{
 "cells": [
  {
   "attachments": {},
   "cell_type": "markdown",
   "metadata": {},
   "source": [
    "# ИДЗ. Вариант 4\n",
    "Выполнили Евсеев Евгений, Парахин Николай и Тимофей Тихонов\n",
    "Группа: БПИ 212"
   ]
  },
  {
   "attachments": {},
   "cell_type": "markdown",
   "metadata": {},
   "source": [
    "# Условие\n",
    "## Входные данные\n",
    "\n",
    "- recid – 1, если заключенный – рецидивист, то есть совершил повторное преступление, 0 иначе\n",
    "- age – возраст заключенного в месяцах\n",
    "- black – 1, если преступник – представитель негроидной расы, 0 иначе\n",
    "- married – 1, если преступник женат, 0 иначе\n",
    "- alcohol – 1, если у заключенного проблемы с алкоголем, 0 иначе\n",
    "- drugs – 1, если у заключенного проблемы с наркотиками, 0 иначе\n",
    "- felon – 1 если приговор за тяжкое преступление\n",
    "- educ – количество лет школьного образования\n",
    "- rules – количество нарушений правил в тюрьме\n",
    "\n",
    "В каждом варианте значение переменная recid известно во всех наблюдениях, кроме последних 50. Эти наблюдения оставлены для прогноза (будем считать, что это преступники, еще не совершившие рецидив).\n",
    "\n",
    "## Переменные рассматриваемые в задании\n",
    "- recid – объясняемая переменная\n",
    "- age, black, married, alcohol, rules - регрессоры\n",
    "\n",
    "## Рекомендации\n",
    "Можно из непрерывных переменных educ и rules сконструировать dummy-переменные и ввести их в модель.\n",
    "\n",
    "*При этом не забываем, что в модель включаем только любые 2 из 3 dummy-переменных (например, age_22 и age_30), чтобы не возникло мультиколлинеарности в данных.*\n",
    "\n",
    "## Задание\n",
    "\n",
    "1) Оцените три модели, связывающую вероятность повторного преступления с остальными признаками:\n",
    "    1) линейную, \n",
    "    2) логит, \n",
    "    3) пробит.\n",
    "\n",
    "2) Дайте словесное описание полученных результатов на примере логит-модели. Какие из переменных получились значимыми? Выпишите оцененную ковариационную матрицу оценок коэффициентов.\n",
    "\n",
    "3) По каждой модели рассчитайте оцените вероятность повторного преступления для всех наблюдений, включая 50 последних (где неизвестно значение recid). Есть ли заметные различия между прогнозируемыми вероятностями? В каких наблюдениях возникают наибольшие расхождения? Кому из ещё не совершивших рецидива бывших заключенных требуется уделить особое внимание?\n",
    "4) На примере probit модели проверьте значимость модели в целом тестом отношения правдоподобия. Рассчитайте p-значение.\n",
    "̂5) Этот пункт сделайте для probit модели. Рассмотрим прогнозное правило типа 𝑙𝑜𝑤𝑖 = 1,\n",
    "если 𝑃(𝑙𝑜𝑤𝑖 = 1) > 𝑐 , иначе 𝑙𝑜𝑤𝑖 = 0 , где c – некое пороговое значение для\n",
    "моделируемой вероятности. \n",
    "Чувствительностью называется доля верных прогнозов среди всех наблюдений, где 𝑙𝑜𝑤𝑖 = 1(способность модели правильно предсказывать «единички»).\n",
    "Специфичностью называется доля верных прогнозов среди всех наблюдений, где 𝑙𝑜𝑤𝑖 = 0 (способность модели правильно предсказывать «нули»). Рассчитайте чувствительность и специфичность для разных пороговых значений c от 0 до 1, постройте график зависимости чувствительности и специфичности от c.\n",
    "Требуется, чтобы прогнозная модель имела чувствительность не ниже 80%. Каким должен быть порог c? Какой специфичности можно добиться в этом случае?"
   ]
  },
  {
   "cell_type": "code",
   "execution_count": 2,
   "metadata": {},
   "outputs": [],
   "source": [
    "import statsmodels.api as sm\n",
    "import numpy as np\n",
    "import pandas as pd\n",
    "import matplotlib.pyplot as plt\n",
    "from scipy.stats.distributions import chi2"
   ]
  },
  {
   "cell_type": "markdown",
   "source": [
    "# Шаг 0. Получение данных и конструирование dummy-переменных"
   ],
   "metadata": {
    "collapsed": false
   }
  },
  {
   "cell_type": "code",
   "execution_count": 3,
   "metadata": {},
   "outputs": [
    {
     "data": {
      "text/plain": "            recid        black      alcohol        drugs      married  \\\ncount  963.000000  1013.000000  1013.000000  1013.000000  1013.000000   \nmean     0.395639     0.467917     0.220138     0.238894     0.261599   \nstd      0.489242     0.499216     0.414544     0.426619     0.439723   \nmin      0.000000     0.000000     0.000000     0.000000     0.000000   \n25%      0.000000     0.000000     0.000000     0.000000     0.000000   \n50%      0.000000     0.000000     0.000000     0.000000     0.000000   \n75%      1.000000     1.000000     0.000000     0.000000     1.000000   \nmax      1.000000     1.000000     1.000000     1.000000     1.000000   \n\n             felon         educ        rules          age  \ncount  1013.000000  1013.000000  1013.000000  1013.000000  \nmean      0.313919     9.720632     1.229023   342.304047  \nstd       0.464313     2.396048     2.395414   120.245419  \nmin       0.000000     1.000000     0.000000   198.000000  \n25%       0.000000     8.000000     0.000000   256.000000  \n50%       0.000000    10.000000     0.000000   303.000000  \n75%       1.000000    11.000000     1.000000   388.000000  \nmax       1.000000    18.000000    27.000000   933.000000  ",
      "text/html": "<div>\n<style scoped>\n    .dataframe tbody tr th:only-of-type {\n        vertical-align: middle;\n    }\n\n    .dataframe tbody tr th {\n        vertical-align: top;\n    }\n\n    .dataframe thead th {\n        text-align: right;\n    }\n</style>\n<table border=\"1\" class=\"dataframe\">\n  <thead>\n    <tr style=\"text-align: right;\">\n      <th></th>\n      <th>recid</th>\n      <th>black</th>\n      <th>alcohol</th>\n      <th>drugs</th>\n      <th>married</th>\n      <th>felon</th>\n      <th>educ</th>\n      <th>rules</th>\n      <th>age</th>\n    </tr>\n  </thead>\n  <tbody>\n    <tr>\n      <th>count</th>\n      <td>963.000000</td>\n      <td>1013.000000</td>\n      <td>1013.000000</td>\n      <td>1013.000000</td>\n      <td>1013.000000</td>\n      <td>1013.000000</td>\n      <td>1013.000000</td>\n      <td>1013.000000</td>\n      <td>1013.000000</td>\n    </tr>\n    <tr>\n      <th>mean</th>\n      <td>0.395639</td>\n      <td>0.467917</td>\n      <td>0.220138</td>\n      <td>0.238894</td>\n      <td>0.261599</td>\n      <td>0.313919</td>\n      <td>9.720632</td>\n      <td>1.229023</td>\n      <td>342.304047</td>\n    </tr>\n    <tr>\n      <th>std</th>\n      <td>0.489242</td>\n      <td>0.499216</td>\n      <td>0.414544</td>\n      <td>0.426619</td>\n      <td>0.439723</td>\n      <td>0.464313</td>\n      <td>2.396048</td>\n      <td>2.395414</td>\n      <td>120.245419</td>\n    </tr>\n    <tr>\n      <th>min</th>\n      <td>0.000000</td>\n      <td>0.000000</td>\n      <td>0.000000</td>\n      <td>0.000000</td>\n      <td>0.000000</td>\n      <td>0.000000</td>\n      <td>1.000000</td>\n      <td>0.000000</td>\n      <td>198.000000</td>\n    </tr>\n    <tr>\n      <th>25%</th>\n      <td>0.000000</td>\n      <td>0.000000</td>\n      <td>0.000000</td>\n      <td>0.000000</td>\n      <td>0.000000</td>\n      <td>0.000000</td>\n      <td>8.000000</td>\n      <td>0.000000</td>\n      <td>256.000000</td>\n    </tr>\n    <tr>\n      <th>50%</th>\n      <td>0.000000</td>\n      <td>0.000000</td>\n      <td>0.000000</td>\n      <td>0.000000</td>\n      <td>0.000000</td>\n      <td>0.000000</td>\n      <td>10.000000</td>\n      <td>0.000000</td>\n      <td>303.000000</td>\n    </tr>\n    <tr>\n      <th>75%</th>\n      <td>1.000000</td>\n      <td>1.000000</td>\n      <td>0.000000</td>\n      <td>0.000000</td>\n      <td>1.000000</td>\n      <td>1.000000</td>\n      <td>11.000000</td>\n      <td>1.000000</td>\n      <td>388.000000</td>\n    </tr>\n    <tr>\n      <th>max</th>\n      <td>1.000000</td>\n      <td>1.000000</td>\n      <td>1.000000</td>\n      <td>1.000000</td>\n      <td>1.000000</td>\n      <td>1.000000</td>\n      <td>18.000000</td>\n      <td>27.000000</td>\n      <td>933.000000</td>\n    </tr>\n  </tbody>\n</table>\n</div>"
     },
     "execution_count": 3,
     "metadata": {},
     "output_type": "execute_result"
    }
   ],
   "source": [
    "# Data import\n",
    "data = pd.read_csv('data/data_v4.csv', sep=';')\n",
    "data = data.astype(float)\n",
    "data.describe()"
   ]
  },
  {
   "cell_type": "markdown",
   "source": [
    "Любопытства ради, для начала, посмотрим на распределение значение по которым мы собираемся строить dummy-переменны."
   ],
   "metadata": {
    "collapsed": false
   }
  },
  {
   "cell_type": "code",
   "execution_count": 25,
   "metadata": {},
   "outputs": [
    {
     "data": {
      "text/plain": "<Figure size 640x480 with 1 Axes>",
      "image/png": "[encoded data removed]"
     },
     "metadata": {},
     "output_type": "display_data"
    },
    {
     "data": {
      "text/plain": "<Figure size 640x480 with 1 Axes>",
      "image/png": "[encoded data removed]"
     },
     "metadata": {},
     "output_type": "display_data"
    }
   ],
   "source": [
    "BINS_COUNT = 15\n",
    "\n",
    "plt.hist(data['educ'], bins=BINS_COUNT)\n",
    "plt.title('Education distribution')\n",
    "plt.ylabel('People')\n",
    "plt.xlabel('School years')\n",
    "plt.show()\n",
    "\n",
    "plt.hist(data['rules'], bins=BINS_COUNT)\n",
    "plt.ylabel('People')\n",
    "plt.xlabel('Rules violations')\n",
    "plt.title('Rules distribution')\n",
    "plt.show()\n",
    "\n",
    "plt.show()"
   ]
  },
  {
   "cell_type": "markdown",
   "source": [
    "Сами же переменные будем строить с использованием квантилей, чтобы получить равные группы по количеству наблюдений.\n",
    "Выделим группы."
   ],
   "metadata": {
    "collapsed": false
   }
  },
  {
   "cell_type": "code",
   "execution_count": 26,
   "metadata": {},
   "outputs": [
    {
     "name": "stdout",
     "output_type": "stream",
     "text": [
      "Education bounds [0, 9.0, 11.0, 18.0]\n",
      "Rules bounds [0, 0.01, 1.0, 27.0]\n"
     ]
    }
   ],
   "source": [
    "GROUPS_COUNT = 3  # Count of groups for each variable\n",
    "\n",
    "educ_bounds = [0]  # Bounds for education\n",
    "for i in range(1, GROUPS_COUNT + 1):\n",
    "    educ_bounds.append(data['educ'].quantile(i / GROUPS_COUNT))\n",
    "\n",
    "rules_bounds = [0]  # Bounds for rules\n",
    "for i in range(1, GROUPS_COUNT + 1):\n",
    "    rules_bounds.append(data['rules'].quantile(i / GROUPS_COUNT))\n",
    "\n",
    "# TODO: fix\n",
    "rules_bounds[1] = 0.01  # Fix for 0 values\n",
    "\n",
    "print(\"Education bounds\", educ_bounds)\n",
    "print(\"Rules bounds\", rules_bounds)"
   ]
  },
  {
   "cell_type": "markdown",
   "source": [
    "Построим dummy-переменные по нашим данным."
   ],
   "metadata": {
    "collapsed": false
   }
  },
  {
   "cell_type": "code",
   "execution_count": 27,
   "metadata": {},
   "outputs": [
    {
     "data": {
      "text/plain": "            educ_0     educ_9.0    educ_11.0\ncount  1013.000000  1013.000000  1013.000000\nmean      0.433366     0.318855     0.247779\nstd       0.495785     0.466263     0.431936\nmin       0.000000     0.000000     0.000000\n25%       0.000000     0.000000     0.000000\n50%       0.000000     0.000000     0.000000\n75%       1.000000     1.000000     0.000000\nmax       1.000000     1.000000     1.000000",
      "text/html": "<div>\n<style scoped>\n    .dataframe tbody tr th:only-of-type {\n        vertical-align: middle;\n    }\n\n    .dataframe tbody tr th {\n        vertical-align: top;\n    }\n\n    .dataframe thead th {\n        text-align: right;\n    }\n</style>\n<table border=\"1\" class=\"dataframe\">\n  <thead>\n    <tr style=\"text-align: right;\">\n      <th></th>\n      <th>educ_0</th>\n      <th>educ_9.0</th>\n      <th>educ_11.0</th>\n    </tr>\n  </thead>\n  <tbody>\n    <tr>\n      <th>count</th>\n      <td>1013.000000</td>\n      <td>1013.000000</td>\n      <td>1013.000000</td>\n    </tr>\n    <tr>\n      <th>mean</th>\n      <td>0.433366</td>\n      <td>0.318855</td>\n      <td>0.247779</td>\n    </tr>\n    <tr>\n      <th>std</th>\n      <td>0.495785</td>\n      <td>0.466263</td>\n      <td>0.431936</td>\n    </tr>\n    <tr>\n      <th>min</th>\n      <td>0.000000</td>\n      <td>0.000000</td>\n      <td>0.000000</td>\n    </tr>\n    <tr>\n      <th>25%</th>\n      <td>0.000000</td>\n      <td>0.000000</td>\n      <td>0.000000</td>\n    </tr>\n    <tr>\n      <th>50%</th>\n      <td>0.000000</td>\n      <td>0.000000</td>\n      <td>0.000000</td>\n    </tr>\n    <tr>\n      <th>75%</th>\n      <td>1.000000</td>\n      <td>1.000000</td>\n      <td>0.000000</td>\n    </tr>\n    <tr>\n      <th>max</th>\n      <td>1.000000</td>\n      <td>1.000000</td>\n      <td>1.000000</td>\n    </tr>\n  </tbody>\n</table>\n</div>"
     },
     "metadata": {},
     "output_type": "display_data"
    },
    {
     "data": {
      "text/plain": "           rules_0   rules_0.01    rules_1.0\ncount  1013.000000  1013.000000  1013.000000\nmean      0.544916     0.214215     0.240869\nstd       0.498224     0.410479     0.427822\nmin       0.000000     0.000000     0.000000\n25%       0.000000     0.000000     0.000000\n50%       1.000000     0.000000     0.000000\n75%       1.000000     0.000000     0.000000\nmax       1.000000     1.000000     1.000000",
      "text/html": "<div>\n<style scoped>\n    .dataframe tbody tr th:only-of-type {\n        vertical-align: middle;\n    }\n\n    .dataframe tbody tr th {\n        vertical-align: top;\n    }\n\n    .dataframe thead th {\n        text-align: right;\n    }\n</style>\n<table border=\"1\" class=\"dataframe\">\n  <thead>\n    <tr style=\"text-align: right;\">\n      <th></th>\n      <th>rules_0</th>\n      <th>rules_0.01</th>\n      <th>rules_1.0</th>\n    </tr>\n  </thead>\n  <tbody>\n    <tr>\n      <th>count</th>\n      <td>1013.000000</td>\n      <td>1013.000000</td>\n      <td>1013.000000</td>\n    </tr>\n    <tr>\n      <th>mean</th>\n      <td>0.544916</td>\n      <td>0.214215</td>\n      <td>0.240869</td>\n    </tr>\n    <tr>\n      <th>std</th>\n      <td>0.498224</td>\n      <td>0.410479</td>\n      <td>0.427822</td>\n    </tr>\n    <tr>\n      <th>min</th>\n      <td>0.000000</td>\n      <td>0.000000</td>\n      <td>0.000000</td>\n    </tr>\n    <tr>\n      <th>25%</th>\n      <td>0.000000</td>\n      <td>0.000000</td>\n      <td>0.000000</td>\n    </tr>\n    <tr>\n      <th>50%</th>\n      <td>1.000000</td>\n      <td>0.000000</td>\n      <td>0.000000</td>\n    </tr>\n    <tr>\n      <th>75%</th>\n      <td>1.000000</td>\n      <td>0.000000</td>\n      <td>0.000000</td>\n    </tr>\n    <tr>\n      <th>max</th>\n      <td>1.000000</td>\n      <td>1.000000</td>\n      <td>1.000000</td>\n    </tr>\n  </tbody>\n</table>\n</div>"
     },
     "metadata": {},
     "output_type": "display_data"
    }
   ],
   "source": [
    "# TODO: make right bound +inf\n",
    "\n",
    "# Education\n",
    "educ_dummies = pd.get_dummies(pd.cut(data['educ'], educ_bounds, include_lowest=True))\n",
    "educ_dummies_names = ['educ_' + str(educ_bounds[i]) for i in range(len(educ_bounds) - 1)]\n",
    "educ_dummies = educ_dummies.astype(int)\n",
    "educ_dummies.columns = educ_dummies_names\n",
    "display(educ_dummies.describe())\n",
    "\n",
    "# Rules\n",
    "rules_dummies = pd.get_dummies(pd.cut(data['rules'], rules_bounds, include_lowest=True))\n",
    "rules_dummies_names = ['rules_' + str(rules_bounds[i]) for i in range(len(rules_bounds) - 1)]\n",
    "rules_dummies = rules_dummies.astype(int)\n",
    "rules_dummies.columns = rules_dummies_names\n",
    "display(rules_dummies.describe())"
   ]
  },
  {
   "cell_type": "markdown",
   "source": [
    "# Шаг 1. Построение моделей\n",
    "\n",
    "- X - матрица объясняющих переменных\n",
    "- Y - вектор зависимой переменной\n",
    "\n",
    "- X_test - матрица объясняющих переменных для тестовой выборки\n",
    "- Y_test - вектор зависимой переменной для тестовой выборки"
   ],
   "metadata": {
    "collapsed": false
   }
  },
  {
   "cell_type": "code",
   "execution_count": 28,
   "metadata": {},
   "outputs": [],
   "source": [
    "DATA_NEEDED = data[['recid', 'age', 'black', 'married', 'alcohol']]\n",
    "\n",
    "X = pd.concat([DATA_NEEDED, educ_dummies.drop(educ_dummies.columns[1], axis=1),\n",
    "               rules_dummies.drop(rules_dummies.columns[1], axis=1)], axis=1)\n",
    "X = X.drop(['recid'], axis=1)\n",
    "X = sm.add_constant(X)\n",
    "Y = data['recid']\n",
    "\n",
    "Y_test = Y  # note: last 50 values are NaN\n",
    "X_test = X\n",
    "\n",
    "Y = Y.dropna()\n",
    "X = X[:Y.size]\n",
    "\n",
    "assert len(X) == len(Y), f'X and Y must have same length, but X has {len(X)} and Y has {len(Y)}'"
   ]
  },
  {
   "attachments": {},
   "cell_type": "markdown",
   "metadata": {},
   "source": [
    "## Линейная модель\n",
    "- 𝑌𝑖 = 𝛽0 + 𝛽1𝑋1𝑖 + 𝛽2𝑋2𝑖 + … + 𝛽𝑘𝑋𝑘𝑖 + 𝜀𝑖\n",
    "\n",
    "- Dep. Variable (зависимая переменная) - `recid`\n",
    "- Model (модель) - `линейная регрессия`\n",
    "- Method (метод) - `метод наименьших квадратов`\n",
    "- No. Observations (количество наблюдений) - `963`\n",
    "- Df Residuals (степени свободы остатков) - `953`\n",
    "print(lr_model.summary())\n",
    "- Df Model (степени свободы модели) - `8` (`const`, `age`, `black`, `married`, `alcohol`, `educ_0`, `educ_11.0`, `rules_0`, `rules_1.0`)\n",
    "- R-squared (коэффициент детерминации) - `0.064`.\n",
    "- Adj. R-squared (скорректированный коэффициент детерминации) - `0.056`\n",
    "- F-statistic (F-статистика) - `8.124`\n",
    "- Prob (F-статистики) - `1.16e-10` (указывает на статистическую значимость модели в целом)\n",
    "- Log-Likelihood (логарифмическая функция правдоподобия) - `-645.76`\n"
   ]
  },
  {
   "cell_type": "code",
   "execution_count": 31,
   "metadata": {},
   "outputs": [
    {
     "name": "stdout",
     "output_type": "stream",
     "text": [
      "                            OLS Regression Results                            \n",
      "==============================================================================\n",
      "Dep. Variable:                  recid   R-squared:                       0.064\n",
      "Model:                            OLS   Adj. R-squared:                  0.056\n",
      "Method:                 Least Squares   F-statistic:                     8.124\n",
      "Date:                Mon, 12 Jun 2023   Prob (F-statistic):           1.16e-10\n",
      "Time:                        15:29:22   Log-Likelihood:                -645.76\n",
      "No. Observations:                 963   AIC:                             1310.\n",
      "Df Residuals:                     954   BIC:                             1353.\n",
      "Df Model:                           8                                         \n",
      "Covariance Type:            nonrobust                                         \n",
      "==============================================================================\n",
      "                 coef    std err          t      P>|t|      [0.025      0.975]\n",
      "------------------------------------------------------------------------------\n",
      "const          0.4468      0.060      7.506      0.000       0.330       0.564\n",
      "age           -0.0003      0.000     -2.419      0.016      -0.001   -6.24e-05\n",
      "black          0.1240      0.031      3.938      0.000       0.062       0.186\n",
      "married       -0.0507      0.036     -1.407      0.160      -0.121       0.020\n",
      "alcohol        0.1325      0.038      3.485      0.001       0.058       0.207\n",
      "educ_0         0.0300      0.037      0.813      0.417      -0.042       0.102\n",
      "educ_11.0     -0.0397      0.042     -0.954      0.340      -0.121       0.042\n",
      "rules_0       -0.0784      0.039     -1.995      0.046      -0.156      -0.001\n",
      "rules_1.0      0.1168      0.046      2.546      0.011       0.027       0.207\n",
      "==============================================================================\n",
      "Omnibus:                     5600.591   Durbin-Watson:                   1.958\n",
      "Prob(Omnibus):                  0.000   Jarque-Bera (JB):              125.340\n",
      "Skew:                           0.389   Prob(JB):                     6.06e-28\n",
      "Kurtosis:                       1.413   Cond. No.                     1.70e+03\n",
      "==============================================================================\n",
      "\n",
      "Notes:\n",
      "[1] Standard Errors assume that the covariance matrix of the errors is correctly specified.\n",
      "[2] The condition number is large, 1.7e+03. This might indicate that there are\n",
      "strong multicollinearity or other numerical problems.\n"
     ]
    }
   ],
   "source": [
    "# Linear regression\n",
    "lr_model = sm.OLS(Y, X).fit()\n",
    "print(lr_model.summary())"
   ]
  },
  {
   "attachments": {},
   "cell_type": "markdown",
   "metadata": {},
   "source": [
    "Посчитаем модель Logit"
   ]
  },
  {
   "cell_type": "code",
   "execution_count": 9,
   "metadata": {},
   "outputs": [
    {
     "name": "stdout",
     "output_type": "stream",
     "text": [
      "Optimization terminated successfully.\n",
      "         Current function value: 0.638539\n",
      "         Iterations 5\n",
      "                           Logit Regression Results                           \n",
      "==============================================================================\n",
      "Dep. Variable:                  recid   No. Observations:                  963\n",
      "Model:                          Logit   Df Residuals:                      954\n",
      "Method:                           MLE   Df Model:                            8\n",
      "Date:                Mon, 12 Jun 2023   Pseudo R-squ.:                 0.04867\n",
      "Time:                        15:05:18   Log-Likelihood:                -614.91\n",
      "converged:                       True   LL-Null:                       -646.37\n",
      "Covariance Type:            nonrobust   LLR p-value:                 1.246e-10\n",
      "==============================================================================\n",
      "                 coef    std err          z      P>|z|      [0.025      0.975]\n",
      "------------------------------------------------------------------------------\n",
      "const         -0.1849      0.268     -0.690      0.490      -0.710       0.340\n",
      "age           -0.0016      0.001     -2.425      0.015      -0.003      -0.000\n",
      "black          0.5502      0.140      3.919      0.000       0.275       0.825\n",
      "married       -0.2276      0.163     -1.393      0.164      -0.548       0.093\n",
      "alcohol        0.5924      0.169      3.499      0.000       0.261       0.924\n",
      "educ_0         0.1369      0.163      0.841      0.401      -0.182       0.456\n",
      "educ_11.0     -0.1751      0.186     -0.940      0.347      -0.540       0.190\n",
      "rules_0       -0.3509      0.174     -2.020      0.043      -0.691      -0.010\n",
      "rules_1.0      0.4827      0.199      2.429      0.015       0.093       0.872\n",
      "==============================================================================\n"
     ]
    }
   ],
   "source": [
    "# Logit\n",
    "lg_model = sm.Logit(Y, X).fit()\n",
    "print(lg_model.summary())"
   ]
  },
  {
   "attachments": {},
   "cell_type": "markdown",
   "metadata": {},
   "source": [
    "Посчитаем модель Probit"
   ]
  },
  {
   "cell_type": "code",
   "execution_count": 10,
   "metadata": {},
   "outputs": [
    {
     "name": "stdout",
     "output_type": "stream",
     "text": [
      "Optimization terminated successfully.\n",
      "         Current function value: 0.638493\n",
      "         Iterations 5\n",
      "                          Probit Regression Results                           \n",
      "==============================================================================\n",
      "Dep. Variable:                  recid   No. Observations:                  963\n",
      "Model:                         Probit   Df Residuals:                      954\n",
      "Method:                           MLE   Df Model:                            8\n",
      "Date:                Mon, 12 Jun 2023   Pseudo R-squ.:                 0.04873\n",
      "Time:                        15:05:18   Log-Likelihood:                -614.87\n",
      "converged:                       True   LL-Null:                       -646.37\n",
      "Covariance Type:            nonrobust   LLR p-value:                 1.198e-10\n",
      "==============================================================================\n",
      "                 coef    std err          z      P>|z|      [0.025      0.975]\n",
      "------------------------------------------------------------------------------\n",
      "const         -0.1238      0.164     -0.755      0.450      -0.445       0.198\n",
      "age           -0.0009      0.000     -2.415      0.016      -0.002      -0.000\n",
      "black          0.3390      0.086      3.945      0.000       0.171       0.507\n",
      "married       -0.1425      0.099     -1.433      0.152      -0.337       0.052\n",
      "alcohol        0.3649      0.103      3.539      0.000       0.163       0.567\n",
      "educ_0         0.0825      0.100      0.823      0.410      -0.114       0.279\n",
      "educ_11.0     -0.1061      0.114     -0.933      0.351      -0.329       0.117\n",
      "rules_0       -0.2164      0.106     -2.034      0.042      -0.425      -0.008\n",
      "rules_1.0      0.3004      0.123      2.444      0.015       0.060       0.541\n",
      "==============================================================================\n"
     ]
    }
   ],
   "source": [
    "# Probit\n",
    "pr_model = sm.Probit(Y, X).fit()\n",
    "print(pr_model.summary())"
   ]
  },
  {
   "attachments": {},
   "cell_type": "markdown",
   "metadata": {},
   "source": [
    "# Шаг 2. писание полученных результатов на примере логит-модели"
   ]
  },
  {
   "cell_type": "code",
   "execution_count": 34,
   "metadata": {},
   "outputs": [
    {
     "name": "stdout",
     "output_type": "stream",
     "text": [
      "                           Logit Regression Results                           \n",
      "==============================================================================\n",
      "Dep. Variable:                  recid   No. Observations:                  963\n",
      "Model:                          Logit   Df Residuals:                      954\n",
      "Method:                           MLE   Df Model:                            8\n",
      "Date:                Mon, 12 Jun 2023   Pseudo R-squ.:                 0.04867\n",
      "Time:                        15:33:09   Log-Likelihood:                -614.91\n",
      "converged:                       True   LL-Null:                       -646.37\n",
      "Covariance Type:            nonrobust   LLR p-value:                 1.246e-10\n",
      "==============================================================================\n",
      "                 coef    std err          z      P>|z|      [0.025      0.975]\n",
      "------------------------------------------------------------------------------\n",
      "const         -0.1849      0.268     -0.690      0.490      -0.710       0.340\n",
      "age           -0.0016      0.001     -2.425      0.015      -0.003      -0.000\n",
      "black          0.5502      0.140      3.919      0.000       0.275       0.825\n",
      "married       -0.2276      0.163     -1.393      0.164      -0.548       0.093\n",
      "alcohol        0.5924      0.169      3.499      0.000       0.261       0.924\n",
      "educ_0         0.1369      0.163      0.841      0.401      -0.182       0.456\n",
      "educ_11.0     -0.1751      0.186     -0.940      0.347      -0.540       0.190\n",
      "rules_0       -0.3509      0.174     -2.020      0.043      -0.691      -0.010\n",
      "rules_1.0      0.4827      0.199      2.429      0.015       0.093       0.872\n",
      "==============================================================================\n"
     ]
    }
   ],
   "source": [
    "print(lg_model.summary())"
   ]
  },
  {
   "cell_type": "markdown",
   "source": [
    "## Значимые переменные\n",
    "Уровень значимости - 0.05"
   ],
   "metadata": {
    "collapsed": false
   }
  },
  {
   "cell_type": "code",
   "execution_count": 12,
   "outputs": [
    {
     "data": {
      "text/plain": "age          0.015307\nblack        0.000089\nalcohol      0.000467\nrules_0      0.043395\nrules_1.0    0.015127\ndtype: float64"
     },
     "metadata": {},
     "output_type": "display_data"
    }
   ],
   "source": [
    "SL = 0.05\n",
    "display(lg_model.pvalues[lg_model.pvalues < SL])"
   ],
   "metadata": {
    "collapsed": false
   }
  },
  {
   "attachments": {},
   "cell_type": "markdown",
   "metadata": {},
   "source": [
    "## Ковариационная матрица и корреляционная матрица"
   ]
  },
  {
   "cell_type": "code",
   "execution_count": 61,
   "metadata": {},
   "outputs": [
    {
     "name": "stdout",
     "output_type": "stream",
     "text": [
      "Covariance matrix\n"
     ]
    },
    {
     "data": {
      "text/plain": "              const           age     black       married   alcohol    educ_0  \\\nconst      0.071762 -1.137622e-04 -0.011561  1.214910e-04  0.001016 -0.010679   \nage       -0.000114  4.143880e-07 -0.000005 -2.168077e-05 -0.000025 -0.000017   \nblack     -0.011561 -4.632253e-06  0.019713  8.000318e-04  0.003163  0.004398   \nmarried    0.000121 -2.168077e-05  0.000800  2.668565e-02 -0.001660 -0.000557   \nalcohol    0.001016 -2.519844e-05  0.003163 -1.659814e-03  0.028670  0.000787   \neduc_0    -0.010679 -1.748153e-05  0.004398 -5.571111e-04  0.000787  0.026539   \neduc_11.0 -0.012457 -1.357773e-05  0.001945  3.234015e-07  0.000758  0.015070   \nrules_0   -0.018460 -6.316668e-06 -0.000071  9.330396e-04 -0.002093 -0.000942   \nrules_1.0 -0.024105  5.888824e-06  0.000933  1.440416e-03  0.000702 -0.000884   \n\n              educ_11.0   rules_0  rules_1.0  \nconst     -1.245698e-02 -0.018460  -0.024105  \nage       -1.357773e-05 -0.000006   0.000006  \nblack      1.945243e-03 -0.000071   0.000933  \nmarried    3.234015e-07  0.000933   0.001440  \nalcohol    7.577476e-04 -0.002093   0.000702  \neduc_0     1.506965e-02 -0.000942  -0.000884  \neduc_11.0  3.472780e-02  0.001142   0.002414  \nrules_0    1.142350e-03  0.030183   0.020825  \nrules_1.0  2.414259e-03  0.020825   0.039482  ",
      "text/html": "<div>\n<style scoped>\n    .dataframe tbody tr th:only-of-type {\n        vertical-align: middle;\n    }\n\n    .dataframe tbody tr th {\n        vertical-align: top;\n    }\n\n    .dataframe thead th {\n        text-align: right;\n    }\n</style>\n<table border=\"1\" class=\"dataframe\">\n  <thead>\n    <tr style=\"text-align: right;\">\n      <th></th>\n      <th>const</th>\n      <th>age</th>\n      <th>black</th>\n      <th>married</th>\n      <th>alcohol</th>\n      <th>educ_0</th>\n      <th>educ_11.0</th>\n      <th>rules_0</th>\n      <th>rules_1.0</th>\n    </tr>\n  </thead>\n  <tbody>\n    <tr>\n      <th>const</th>\n      <td>0.071762</td>\n      <td>-1.137622e-04</td>\n      <td>-0.011561</td>\n      <td>1.214910e-04</td>\n      <td>0.001016</td>\n      <td>-0.010679</td>\n      <td>-1.245698e-02</td>\n      <td>-0.018460</td>\n      <td>-0.024105</td>\n    </tr>\n    <tr>\n      <th>age</th>\n      <td>-0.000114</td>\n      <td>4.143880e-07</td>\n      <td>-0.000005</td>\n      <td>-2.168077e-05</td>\n      <td>-0.000025</td>\n      <td>-0.000017</td>\n      <td>-1.357773e-05</td>\n      <td>-0.000006</td>\n      <td>0.000006</td>\n    </tr>\n    <tr>\n      <th>black</th>\n      <td>-0.011561</td>\n      <td>-4.632253e-06</td>\n      <td>0.019713</td>\n      <td>8.000318e-04</td>\n      <td>0.003163</td>\n      <td>0.004398</td>\n      <td>1.945243e-03</td>\n      <td>-0.000071</td>\n      <td>0.000933</td>\n    </tr>\n    <tr>\n      <th>married</th>\n      <td>0.000121</td>\n      <td>-2.168077e-05</td>\n      <td>0.000800</td>\n      <td>2.668565e-02</td>\n      <td>-0.001660</td>\n      <td>-0.000557</td>\n      <td>3.234015e-07</td>\n      <td>0.000933</td>\n      <td>0.001440</td>\n    </tr>\n    <tr>\n      <th>alcohol</th>\n      <td>0.001016</td>\n      <td>-2.519844e-05</td>\n      <td>0.003163</td>\n      <td>-1.659814e-03</td>\n      <td>0.028670</td>\n      <td>0.000787</td>\n      <td>7.577476e-04</td>\n      <td>-0.002093</td>\n      <td>0.000702</td>\n    </tr>\n    <tr>\n      <th>educ_0</th>\n      <td>-0.010679</td>\n      <td>-1.748153e-05</td>\n      <td>0.004398</td>\n      <td>-5.571111e-04</td>\n      <td>0.000787</td>\n      <td>0.026539</td>\n      <td>1.506965e-02</td>\n      <td>-0.000942</td>\n      <td>-0.000884</td>\n    </tr>\n    <tr>\n      <th>educ_11.0</th>\n      <td>-0.012457</td>\n      <td>-1.357773e-05</td>\n      <td>0.001945</td>\n      <td>3.234015e-07</td>\n      <td>0.000758</td>\n      <td>0.015070</td>\n      <td>3.472780e-02</td>\n      <td>0.001142</td>\n      <td>0.002414</td>\n    </tr>\n    <tr>\n      <th>rules_0</th>\n      <td>-0.018460</td>\n      <td>-6.316668e-06</td>\n      <td>-0.000071</td>\n      <td>9.330396e-04</td>\n      <td>-0.002093</td>\n      <td>-0.000942</td>\n      <td>1.142350e-03</td>\n      <td>0.030183</td>\n      <td>0.020825</td>\n    </tr>\n    <tr>\n      <th>rules_1.0</th>\n      <td>-0.024105</td>\n      <td>5.888824e-06</td>\n      <td>0.000933</td>\n      <td>1.440416e-03</td>\n      <td>0.000702</td>\n      <td>-0.000884</td>\n      <td>2.414259e-03</td>\n      <td>0.020825</td>\n      <td>0.039482</td>\n    </tr>\n  </tbody>\n</table>\n</div>"
     },
     "metadata": {},
     "output_type": "display_data"
    },
    {
     "name": "stdout",
     "output_type": "stream",
     "text": [
      "Correlation matrix\n"
     ]
    },
    {
     "data": {
      "text/plain": "              const       age     black   married   alcohol    educ_0  \\\nconst      1.000000 -0.659699 -0.307368  0.002776  0.022400 -0.244700   \nage       -0.659699  1.000000 -0.051252 -0.206173 -0.231182 -0.166698   \nblack     -0.307368 -0.051252  1.000000  0.034881  0.133045  0.192266   \nmarried    0.002776 -0.206173  0.034881  1.000000 -0.060007 -0.020934   \nalcohol    0.022400 -0.231182  0.133045 -0.060007  1.000000  0.028513   \neduc_0    -0.244700 -0.166698  0.192266 -0.020934  0.028513  1.000000   \neduc_11.0 -0.249532 -0.113184  0.074346  0.000011  0.024014  0.496386   \nrules_0   -0.396652 -0.056481 -0.002927  0.032876 -0.071147 -0.033299   \nrules_1.0 -0.452864  0.046039  0.033442  0.044376  0.020851 -0.027320   \n\n           educ_11.0   rules_0  rules_1.0  \nconst      -0.249532 -0.396652  -0.452864  \nage        -0.113184 -0.056481   0.046039  \nblack       0.074346 -0.002927   0.033442  \nmarried     0.000011  0.032876   0.044376  \nalcohol     0.024014 -0.071147   0.020851  \neduc_0      0.496386 -0.033299  -0.027320  \neduc_11.0   1.000000  0.035284   0.065200  \nrules_0     0.035284  1.000000   0.603272  \nrules_1.0   0.065200  0.603272   1.000000  ",
      "text/html": "<div>\n<style scoped>\n    .dataframe tbody tr th:only-of-type {\n        vertical-align: middle;\n    }\n\n    .dataframe tbody tr th {\n        vertical-align: top;\n    }\n\n    .dataframe thead th {\n        text-align: right;\n    }\n</style>\n<table border=\"1\" class=\"dataframe\">\n  <thead>\n    <tr style=\"text-align: right;\">\n      <th></th>\n      <th>const</th>\n      <th>age</th>\n      <th>black</th>\n      <th>married</th>\n      <th>alcohol</th>\n      <th>educ_0</th>\n      <th>educ_11.0</th>\n      <th>rules_0</th>\n      <th>rules_1.0</th>\n    </tr>\n  </thead>\n  <tbody>\n    <tr>\n      <th>const</th>\n      <td>1.000000</td>\n      <td>-0.659699</td>\n      <td>-0.307368</td>\n      <td>0.002776</td>\n      <td>0.022400</td>\n      <td>-0.244700</td>\n      <td>-0.249532</td>\n      <td>-0.396652</td>\n      <td>-0.452864</td>\n    </tr>\n    <tr>\n      <th>age</th>\n      <td>-0.659699</td>\n      <td>1.000000</td>\n      <td>-0.051252</td>\n      <td>-0.206173</td>\n      <td>-0.231182</td>\n      <td>-0.166698</td>\n      <td>-0.113184</td>\n      <td>-0.056481</td>\n      <td>0.046039</td>\n    </tr>\n    <tr>\n      <th>black</th>\n      <td>-0.307368</td>\n      <td>-0.051252</td>\n      <td>1.000000</td>\n      <td>0.034881</td>\n      <td>0.133045</td>\n      <td>0.192266</td>\n      <td>0.074346</td>\n      <td>-0.002927</td>\n      <td>0.033442</td>\n    </tr>\n    <tr>\n      <th>married</th>\n      <td>0.002776</td>\n      <td>-0.206173</td>\n      <td>0.034881</td>\n      <td>1.000000</td>\n      <td>-0.060007</td>\n      <td>-0.020934</td>\n      <td>0.000011</td>\n      <td>0.032876</td>\n      <td>0.044376</td>\n    </tr>\n    <tr>\n      <th>alcohol</th>\n      <td>0.022400</td>\n      <td>-0.231182</td>\n      <td>0.133045</td>\n      <td>-0.060007</td>\n      <td>1.000000</td>\n      <td>0.028513</td>\n      <td>0.024014</td>\n      <td>-0.071147</td>\n      <td>0.020851</td>\n    </tr>\n    <tr>\n      <th>educ_0</th>\n      <td>-0.244700</td>\n      <td>-0.166698</td>\n      <td>0.192266</td>\n      <td>-0.020934</td>\n      <td>0.028513</td>\n      <td>1.000000</td>\n      <td>0.496386</td>\n      <td>-0.033299</td>\n      <td>-0.027320</td>\n    </tr>\n    <tr>\n      <th>educ_11.0</th>\n      <td>-0.249532</td>\n      <td>-0.113184</td>\n      <td>0.074346</td>\n      <td>0.000011</td>\n      <td>0.024014</td>\n      <td>0.496386</td>\n      <td>1.000000</td>\n      <td>0.035284</td>\n      <td>0.065200</td>\n    </tr>\n    <tr>\n      <th>rules_0</th>\n      <td>-0.396652</td>\n      <td>-0.056481</td>\n      <td>-0.002927</td>\n      <td>0.032876</td>\n      <td>-0.071147</td>\n      <td>-0.033299</td>\n      <td>0.035284</td>\n      <td>1.000000</td>\n      <td>0.603272</td>\n    </tr>\n    <tr>\n      <th>rules_1.0</th>\n      <td>-0.452864</td>\n      <td>0.046039</td>\n      <td>0.033442</td>\n      <td>0.044376</td>\n      <td>0.020851</td>\n      <td>-0.027320</td>\n      <td>0.065200</td>\n      <td>0.603272</td>\n      <td>1.000000</td>\n    </tr>\n  </tbody>\n</table>\n</div>"
     },
     "metadata": {},
     "output_type": "display_data"
    },
    {
     "name": "stdout",
     "output_type": "stream",
     "text": [
      "Most correlated variables\n"
     ]
    },
    {
     "data": {
      "text/plain": "                   Correlation\nrules_1.0 rules_0     0.603272\neduc_11.0 educ_0      0.496386\nmarried   age        -0.206173\nalcohol   age        -0.231182\neduc_0    const      -0.244700\neduc_11.0 const      -0.249532\nblack     const      -0.307368\nrules_0   const      -0.396652\nrules_1.0 const      -0.452864\nage       const      -0.659699",
      "text/html": "<div>\n<style scoped>\n    .dataframe tbody tr th:only-of-type {\n        vertical-align: middle;\n    }\n\n    .dataframe tbody tr th {\n        vertical-align: top;\n    }\n\n    .dataframe thead th {\n        text-align: right;\n    }\n</style>\n<table border=\"1\" class=\"dataframe\">\n  <thead>\n    <tr style=\"text-align: right;\">\n      <th></th>\n      <th></th>\n      <th>Correlation</th>\n    </tr>\n  </thead>\n  <tbody>\n    <tr>\n      <th>rules_1.0</th>\n      <th>rules_0</th>\n      <td>0.603272</td>\n    </tr>\n    <tr>\n      <th>educ_11.0</th>\n      <th>educ_0</th>\n      <td>0.496386</td>\n    </tr>\n    <tr>\n      <th>married</th>\n      <th>age</th>\n      <td>-0.206173</td>\n    </tr>\n    <tr>\n      <th>alcohol</th>\n      <th>age</th>\n      <td>-0.231182</td>\n    </tr>\n    <tr>\n      <th>educ_0</th>\n      <th>const</th>\n      <td>-0.244700</td>\n    </tr>\n    <tr>\n      <th>educ_11.0</th>\n      <th>const</th>\n      <td>-0.249532</td>\n    </tr>\n    <tr>\n      <th>black</th>\n      <th>const</th>\n      <td>-0.307368</td>\n    </tr>\n    <tr>\n      <th>rules_0</th>\n      <th>const</th>\n      <td>-0.396652</td>\n    </tr>\n    <tr>\n      <th>rules_1.0</th>\n      <th>const</th>\n      <td>-0.452864</td>\n    </tr>\n    <tr>\n      <th>age</th>\n      <th>const</th>\n      <td>-0.659699</td>\n    </tr>\n  </tbody>\n</table>\n</div>"
     },
     "metadata": {},
     "output_type": "display_data"
    }
   ],
   "source": [
    "cov_matrix = lg_model.cov_params()\n",
    "print('Covariance matrix')\n",
    "display(cov_matrix)\n",
    "\n",
    "# Find correlation matrix\n",
    "corr_matrix = cov_matrix / np.outer(np.sqrt(np.diag(cov_matrix)), np.sqrt(np.diag(cov_matrix)))\n",
    "print('Correlation matrix')\n",
    "display(corr_matrix)\n",
    "\n",
    "# Find most correlated variables\n",
    "CORR_THRESHOLD = 0.2\n",
    "corr_matrix_peeks = corr_matrix.where(np.triu(np.ones(corr_matrix.shape), k=1).astype(bool))\n",
    "corr_matrix_peeks = corr_matrix_peeks.unstack().sort_values(ascending=False)\n",
    "corr_matrix_peeks = corr_matrix_peeks[(corr_matrix_peeks > CORR_THRESHOLD) | (corr_matrix_peeks < -CORR_THRESHOLD)]\n",
    "corr_matrix_peeks = corr_matrix_peeks.drop_duplicates()\n",
    "corr_matrix_peeks = corr_matrix_peeks.to_frame()\n",
    "corr_matrix_peeks.columns = ['Correlation']\n",
    "print('Most correlated variables')\n",
    "display(corr_matrix_peeks)"
   ]
  },
  {
   "attachments": {},
   "cell_type": "markdown",
   "metadata": {},
   "source": [
    "# Шаг 3. Расчет прогнозных значений\n"
   ]
  },
  {
   "cell_type": "code",
   "execution_count": 63,
   "metadata": {},
   "outputs": [
    {
     "name": "stdout",
     "output_type": "stream",
     "text": [
      "Linear regression predictions\n"
     ]
    },
    {
     "data": {
      "text/plain": "963     0.483169\n964     0.499498\n965     0.240278\n966     0.603706\n967     0.301777\n968     0.325531\n969     0.479382\n970     0.405081\n971     0.515160\n972     0.408236\n973     0.552216\n974     0.200118\n975     0.421699\n976     0.407574\n977     0.349016\n978     0.385065\n979     0.454460\n980     0.620918\n981     0.516815\n982     0.310714\n983     0.258232\n984     0.366655\n985     0.309311\n986     0.537983\n987     0.385065\n988     0.416190\n989     0.412870\n990     0.403686\n991     0.314608\n992     0.443516\n993     0.234085\n994     0.416469\n995     0.520973\n996     0.439361\n997     0.408898\n998     0.394029\n999     0.139084\n1000    0.436408\n1001    0.515822\n1002    0.321890\n1003    0.396678\n1004    0.285044\n1005    0.464301\n1006    0.432079\n1007    0.291885\n1008    0.497616\n1009    0.445796\n1010    0.331100\n1011    0.287692\n1012    0.510195\ndtype: float64"
     },
     "metadata": {},
     "output_type": "display_data"
    },
    {
     "name": "stdout",
     "output_type": "stream",
     "text": [
      "Logit predictions\n"
     ]
    },
    {
     "data": {
      "text/plain": "963     0.479625\n964     0.496190\n965     0.244570\n966     0.610156\n967     0.293782\n968     0.322497\n969     0.483622\n970     0.397106\n971     0.516187\n972     0.405618\n973     0.555207\n974     0.210073\n975     0.419233\n976     0.404865\n977     0.343133\n978     0.379567\n979     0.457932\n980     0.629283\n981     0.518136\n982     0.302602\n983     0.256192\n984     0.360979\n985     0.306016\n986     0.538574\n987     0.379567\n988     0.413014\n989     0.410897\n990     0.402594\n991     0.311346\n992     0.440474\n993     0.238316\n994     0.415451\n995     0.531471\n996     0.439733\n997     0.406371\n998     0.392163\n999     0.166594\n1000    0.432863\n1001    0.516967\n1002    0.318757\n1003    0.395144\n1004    0.281019\n1005    0.457472\n1006    0.431291\n1007    0.289783\n1008    0.495509\n1009    0.438866\n1010    0.324745\n1011    0.283550\n1012    0.510337\ndtype: float64"
     },
     "metadata": {},
     "output_type": "display_data"
    },
    {
     "name": "stdout",
     "output_type": "stream",
     "text": [
      "Probit predictions\n"
     ]
    },
    {
     "data": {
      "text/plain": "963     0.480043\n964     0.496732\n965     0.243411\n966     0.609173\n967     0.294627\n968     0.321688\n969     0.483134\n970     0.401325\n971     0.515165\n972     0.405861\n973     0.555648\n974     0.208186\n975     0.419013\n976     0.405138\n977     0.344830\n978     0.380749\n979     0.456198\n980     0.627667\n981     0.517025\n982     0.303372\n983     0.256316\n984     0.360528\n985     0.305481\n986     0.539758\n987     0.380749\n988     0.415041\n989     0.410934\n990     0.400960\n991     0.310733\n992     0.442164\n993     0.235676\n994     0.415590\n995     0.529032\n996     0.440664\n997     0.406585\n998     0.391837\n999     0.161564\n1000    0.433699\n1001    0.515909\n1002    0.318018\n1003    0.394708\n1004    0.281236\n1005    0.458891\n1006    0.432579\n1007    0.289202\n1008    0.495441\n1009    0.440548\n1010    0.327074\n1011    0.283760\n1012    0.509585\ndtype: float64"
     },
     "metadata": {},
     "output_type": "display_data"
    }
   ],
   "source": [
    "lr_model_pred = lr_model.predict(X_test)\n",
    "lg_model_pred = lg_model.predict(X_test)\n",
    "pr_model_pred = pr_model.predict(X_test)\n",
    "\n",
    "print('Results of predictions for last 50 values')\n",
    "print('Linear regression predictions')\n",
    "display(lr_model_pred[Y.size:])\n",
    "\n",
    "print('Logit predictions')\n",
    "display(lg_model_pred[Y.size:])\n",
    "\n",
    "print('Probit predictions')\n",
    "display(pr_model_pred[Y.size:])"
   ]
  },
  {
   "cell_type": "markdown",
   "source": [
    "Найдем дисперсию остатоков"
   ],
   "metadata": {
    "collapsed": false
   }
  },
  {
   "cell_type": "code",
   "execution_count": 66,
   "metadata": {},
   "outputs": [
    {
     "name": "stdout",
     "output_type": "stream",
     "text": [
      "Linear Regression D:\t0.22385795185446292\n",
      "Logit D:\t0.22389577297113403\n",
      "Probit D:\t0.22388364706264352\n"
     ]
    }
   ],
   "source": [
    "lr_residuals = Y - lr_model_pred[:Y.size]\n",
    "lg_residuals = Y - lg_model_pred[:Y.size]\n",
    "pr_residuals = Y - pr_model_pred[:Y.size]\n",
    "\n",
    "print('Linear Regression D:', np.var(lr_residuals), sep='\\t')\n",
    "print('Logit D:', np.var(lg_residuals), sep='\\t')\n",
    "print('Probit D:', np.var(pr_residuals), sep='\\t')\n",
    "\n"
   ]
  },
  {
   "cell_type": "markdown",
   "source": [
    "Найдем людей с наибольшим отклонением от"
   ],
   "metadata": {
    "collapsed": false
   }
  },
  {
   "cell_type": "code",
   "execution_count": 16,
   "outputs": [
    {
     "name": "stdout",
     "output_type": "stream",
     "text": [
      "[66, 26, 293, 229, 5, 586, 273, 338, 531, 149, 726, 663, 218, 251, 639]\n"
     ]
    },
    {
     "data": {
      "text/plain": "     recid        lr        lg        pr  const    age  black  married  \\\n66     1.0  0.209921  0.218250  0.215235    1.0  416.0    0.0      1.0   \n26     1.0  0.166977  0.183912  0.181439    1.0  699.0    0.0      0.0   \n293    1.0  0.204721  0.211683  0.210247    1.0  578.0    0.0      1.0   \n229    1.0  0.213136  0.221699  0.220093    1.0  349.0    0.0      0.0   \n5      1.0  0.189184  0.202760  0.199129    1.0  388.0    0.0      1.0   \n586    1.0  0.090330  0.137650  0.131779    1.0  720.0    0.0      0.0   \n273    1.0  0.197247  0.209040  0.207061    1.0  397.0    0.0      0.0   \n338    1.0  0.172996  0.192563  0.188198    1.0  317.0    0.0      1.0   \n531    1.0  0.221448  0.224867  0.224639    1.0  571.0    0.0      1.0   \n149    1.0  0.189634  0.203165  0.200981    1.0  420.0    0.0      0.0   \n726    1.0  0.201860  0.209504  0.209464    1.0  620.0    0.0      0.0   \n663    1.0  0.169625  0.185794  0.183414    1.0  691.0    0.0      0.0   \n218    1.0  0.167551  0.186077  0.181988    1.0  544.0    0.0      1.0   \n251    1.0  0.187168  0.198636  0.196835    1.0  638.0    0.0      0.0   \n639    1.0  0.213136  0.221699  0.220093    1.0  349.0    0.0      0.0   \n\n     alcohol  educ_0  educ_11.0  rules_0  rules_1.0  \n66       0.0       1          0        1          0  \n26       0.0       1          0        1          0  \n293      0.0       0          0        0          0  \n229      0.0       0          1        1          0  \n5        0.0       0          0        1          0  \n586      0.0       0          1        1          0  \n273      0.0       0          1        1          0  \n338      0.0       0          1        1          0  \n531      1.0       0          1        1          0  \n149      0.0       0          1        1          0  \n726      0.0       0          1        0          0  \n663      0.0       1          0        1          0  \n218      0.0       1          0        1          0  \n251      0.0       1          0        1          0  \n639      0.0       0          1        1          0  ",
      "text/html": "<div>\n<style scoped>\n    .dataframe tbody tr th:only-of-type {\n        vertical-align: middle;\n    }\n\n    .dataframe tbody tr th {\n        vertical-align: top;\n    }\n\n    .dataframe thead th {\n        text-align: right;\n    }\n</style>\n<table border=\"1\" class=\"dataframe\">\n  <thead>\n    <tr style=\"text-align: right;\">\n      <th></th>\n      <th>recid</th>\n      <th>lr</th>\n      <th>lg</th>\n      <th>pr</th>\n      <th>const</th>\n      <th>age</th>\n      <th>black</th>\n      <th>married</th>\n      <th>alcohol</th>\n      <th>educ_0</th>\n      <th>educ_11.0</th>\n      <th>rules_0</th>\n      <th>rules_1.0</th>\n    </tr>\n  </thead>\n  <tbody>\n    <tr>\n      <th>66</th>\n      <td>1.0</td>\n      <td>0.209921</td>\n      <td>0.218250</td>\n      <td>0.215235</td>\n      <td>1.0</td>\n      <td>416.0</td>\n      <td>0.0</td>\n      <td>1.0</td>\n      <td>0.0</td>\n      <td>1</td>\n      <td>0</td>\n      <td>1</td>\n      <td>0</td>\n    </tr>\n    <tr>\n      <th>26</th>\n      <td>1.0</td>\n      <td>0.166977</td>\n      <td>0.183912</td>\n      <td>0.181439</td>\n      <td>1.0</td>\n      <td>699.0</td>\n      <td>0.0</td>\n      <td>0.0</td>\n      <td>0.0</td>\n      <td>1</td>\n      <td>0</td>\n      <td>1</td>\n      <td>0</td>\n    </tr>\n    <tr>\n      <th>293</th>\n      <td>1.0</td>\n      <td>0.204721</td>\n      <td>0.211683</td>\n      <td>0.210247</td>\n      <td>1.0</td>\n      <td>578.0</td>\n      <td>0.0</td>\n      <td>1.0</td>\n      <td>0.0</td>\n      <td>0</td>\n      <td>0</td>\n      <td>0</td>\n      <td>0</td>\n    </tr>\n    <tr>\n      <th>229</th>\n      <td>1.0</td>\n      <td>0.213136</td>\n      <td>0.221699</td>\n      <td>0.220093</td>\n      <td>1.0</td>\n      <td>349.0</td>\n      <td>0.0</td>\n      <td>0.0</td>\n      <td>0.0</td>\n      <td>0</td>\n      <td>1</td>\n      <td>1</td>\n      <td>0</td>\n    </tr>\n    <tr>\n      <th>5</th>\n      <td>1.0</td>\n      <td>0.189184</td>\n      <td>0.202760</td>\n      <td>0.199129</td>\n      <td>1.0</td>\n      <td>388.0</td>\n      <td>0.0</td>\n      <td>1.0</td>\n      <td>0.0</td>\n      <td>0</td>\n      <td>0</td>\n      <td>1</td>\n      <td>0</td>\n    </tr>\n    <tr>\n      <th>586</th>\n      <td>1.0</td>\n      <td>0.090330</td>\n      <td>0.137650</td>\n      <td>0.131779</td>\n      <td>1.0</td>\n      <td>720.0</td>\n      <td>0.0</td>\n      <td>0.0</td>\n      <td>0.0</td>\n      <td>0</td>\n      <td>1</td>\n      <td>1</td>\n      <td>0</td>\n    </tr>\n    <tr>\n      <th>273</th>\n      <td>1.0</td>\n      <td>0.197247</td>\n      <td>0.209040</td>\n      <td>0.207061</td>\n      <td>1.0</td>\n      <td>397.0</td>\n      <td>0.0</td>\n      <td>0.0</td>\n      <td>0.0</td>\n      <td>0</td>\n      <td>1</td>\n      <td>1</td>\n      <td>0</td>\n    </tr>\n    <tr>\n      <th>338</th>\n      <td>1.0</td>\n      <td>0.172996</td>\n      <td>0.192563</td>\n      <td>0.188198</td>\n      <td>1.0</td>\n      <td>317.0</td>\n      <td>0.0</td>\n      <td>1.0</td>\n      <td>0.0</td>\n      <td>0</td>\n      <td>1</td>\n      <td>1</td>\n      <td>0</td>\n    </tr>\n    <tr>\n      <th>531</th>\n      <td>1.0</td>\n      <td>0.221448</td>\n      <td>0.224867</td>\n      <td>0.224639</td>\n      <td>1.0</td>\n      <td>571.0</td>\n      <td>0.0</td>\n      <td>1.0</td>\n      <td>1.0</td>\n      <td>0</td>\n      <td>1</td>\n      <td>1</td>\n      <td>0</td>\n    </tr>\n    <tr>\n      <th>149</th>\n      <td>1.0</td>\n      <td>0.189634</td>\n      <td>0.203165</td>\n      <td>0.200981</td>\n      <td>1.0</td>\n      <td>420.0</td>\n      <td>0.0</td>\n      <td>0.0</td>\n      <td>0.0</td>\n      <td>0</td>\n      <td>1</td>\n      <td>1</td>\n      <td>0</td>\n    </tr>\n    <tr>\n      <th>726</th>\n      <td>1.0</td>\n      <td>0.201860</td>\n      <td>0.209504</td>\n      <td>0.209464</td>\n      <td>1.0</td>\n      <td>620.0</td>\n      <td>0.0</td>\n      <td>0.0</td>\n      <td>0.0</td>\n      <td>0</td>\n      <td>1</td>\n      <td>0</td>\n      <td>0</td>\n    </tr>\n    <tr>\n      <th>663</th>\n      <td>1.0</td>\n      <td>0.169625</td>\n      <td>0.185794</td>\n      <td>0.183414</td>\n      <td>1.0</td>\n      <td>691.0</td>\n      <td>0.0</td>\n      <td>0.0</td>\n      <td>0.0</td>\n      <td>1</td>\n      <td>0</td>\n      <td>1</td>\n      <td>0</td>\n    </tr>\n    <tr>\n      <th>218</th>\n      <td>1.0</td>\n      <td>0.167551</td>\n      <td>0.186077</td>\n      <td>0.181988</td>\n      <td>1.0</td>\n      <td>544.0</td>\n      <td>0.0</td>\n      <td>1.0</td>\n      <td>0.0</td>\n      <td>1</td>\n      <td>0</td>\n      <td>1</td>\n      <td>0</td>\n    </tr>\n    <tr>\n      <th>251</th>\n      <td>1.0</td>\n      <td>0.187168</td>\n      <td>0.198636</td>\n      <td>0.196835</td>\n      <td>1.0</td>\n      <td>638.0</td>\n      <td>0.0</td>\n      <td>0.0</td>\n      <td>0.0</td>\n      <td>1</td>\n      <td>0</td>\n      <td>1</td>\n      <td>0</td>\n    </tr>\n    <tr>\n      <th>639</th>\n      <td>1.0</td>\n      <td>0.213136</td>\n      <td>0.221699</td>\n      <td>0.220093</td>\n      <td>1.0</td>\n      <td>349.0</td>\n      <td>0.0</td>\n      <td>0.0</td>\n      <td>0.0</td>\n      <td>0</td>\n      <td>1</td>\n      <td>1</td>\n      <td>0</td>\n    </tr>\n  </tbody>\n</table>\n</div>"
     },
     "metadata": {},
     "output_type": "display_data"
    }
   ],
   "source": [
    "most_influential = set()\n",
    "\n",
    "# For lr. lg. pr\n",
    "sorted_lr_residuals = np.argsort(np.abs(lr_residuals))\n",
    "sorted_lg_residuals = np.argsort(np.abs(lg_residuals))\n",
    "sorted_pr_residuals = np.argsort(np.abs(pr_residuals))\n",
    "\n",
    "most_influential = most_influential.union([*sorted_lr_residuals[-15:]])\n",
    "most_influential = most_influential.union([*sorted_lg_residuals[-15:]])\n",
    "most_influential = most_influential.union([*sorted_pr_residuals[-15:]])\n",
    "\n",
    "most_influential = list(most_influential)\n",
    "print(most_influential)\n",
    "\n",
    "predictions = pd.DataFrame({'lr': lr_model_pred, 'lg': lg_model_pred, 'pr': pr_model_pred})\n",
    "df = pd.concat([Y, predictions, X_test], axis=1)\n",
    "res = df.iloc[most_influential]\n",
    "display(res)\n"
   ],
   "metadata": {
    "collapsed": false
   }
  },
  {
   "cell_type": "markdown",
   "source": [
    "Найдем, кому следует уделить пристольное внимание"
   ],
   "metadata": {
    "collapsed": false
   }
  },
  {
   "cell_type": "code",
   "execution_count": 69,
   "outputs": [
    {
     "data": {
      "text/plain": "      recid        lr        lg        pr  const    age  black  married  \\\n966     NaN  0.603706  0.610156  0.609173    1.0  344.0    1.0      0.0   \n971     NaN  0.515160  0.516187  0.515165    1.0  237.0    0.0      0.0   \n973     NaN  0.552216  0.555207  0.555648    1.0  289.0    1.0      0.0   \n980     NaN  0.620918  0.629283  0.627667    1.0  292.0    1.0      0.0   \n981     NaN  0.516815  0.518136  0.517025    1.0  232.0    0.0      0.0   \n986     NaN  0.537983  0.538574  0.539758    1.0  332.0    1.0      0.0   \n995     NaN  0.520973  0.531471  0.529032    1.0  241.0    1.0      0.0   \n1001    NaN  0.515822  0.516967  0.515909    1.0  235.0    0.0      0.0   \n1012    NaN  0.510195  0.510337  0.509585    1.0  252.0    0.0      0.0   \n\n      alcohol  educ_0  educ_11.0  rules_0  rules_1.0  \n966       0.0       1          0        0          1  \n971       0.0       1          0        0          1  \n973       0.0       0          1        0          1  \n980       0.0       1          0        0          1  \n981       0.0       1          0        0          1  \n986       0.0       0          1        0          1  \n995       0.0       1          0        0          0  \n1001      0.0       1          0        0          1  \n1012      0.0       1          0        0          1  ",
      "text/html": "<div>\n<style scoped>\n    .dataframe tbody tr th:only-of-type {\n        vertical-align: middle;\n    }\n\n    .dataframe tbody tr th {\n        vertical-align: top;\n    }\n\n    .dataframe thead th {\n        text-align: right;\n    }\n</style>\n<table border=\"1\" class=\"dataframe\">\n  <thead>\n    <tr style=\"text-align: right;\">\n      <th></th>\n      <th>recid</th>\n      <th>lr</th>\n      <th>lg</th>\n      <th>pr</th>\n      <th>const</th>\n      <th>age</th>\n      <th>black</th>\n      <th>married</th>\n      <th>alcohol</th>\n      <th>educ_0</th>\n      <th>educ_11.0</th>\n      <th>rules_0</th>\n      <th>rules_1.0</th>\n    </tr>\n  </thead>\n  <tbody>\n    <tr>\n      <th>966</th>\n      <td>NaN</td>\n      <td>0.603706</td>\n      <td>0.610156</td>\n      <td>0.609173</td>\n      <td>1.0</td>\n      <td>344.0</td>\n      <td>1.0</td>\n      <td>0.0</td>\n      <td>0.0</td>\n      <td>1</td>\n      <td>0</td>\n      <td>0</td>\n      <td>1</td>\n    </tr>\n    <tr>\n      <th>971</th>\n      <td>NaN</td>\n      <td>0.515160</td>\n      <td>0.516187</td>\n      <td>0.515165</td>\n      <td>1.0</td>\n      <td>237.0</td>\n      <td>0.0</td>\n      <td>0.0</td>\n      <td>0.0</td>\n      <td>1</td>\n      <td>0</td>\n      <td>0</td>\n      <td>1</td>\n    </tr>\n    <tr>\n      <th>973</th>\n      <td>NaN</td>\n      <td>0.552216</td>\n      <td>0.555207</td>\n      <td>0.555648</td>\n      <td>1.0</td>\n      <td>289.0</td>\n      <td>1.0</td>\n      <td>0.0</td>\n      <td>0.0</td>\n      <td>0</td>\n      <td>1</td>\n      <td>0</td>\n      <td>1</td>\n    </tr>\n    <tr>\n      <th>980</th>\n      <td>NaN</td>\n      <td>0.620918</td>\n      <td>0.629283</td>\n      <td>0.627667</td>\n      <td>1.0</td>\n      <td>292.0</td>\n      <td>1.0</td>\n      <td>0.0</td>\n      <td>0.0</td>\n      <td>1</td>\n      <td>0</td>\n      <td>0</td>\n      <td>1</td>\n    </tr>\n    <tr>\n      <th>981</th>\n      <td>NaN</td>\n      <td>0.516815</td>\n      <td>0.518136</td>\n      <td>0.517025</td>\n      <td>1.0</td>\n      <td>232.0</td>\n      <td>0.0</td>\n      <td>0.0</td>\n      <td>0.0</td>\n      <td>1</td>\n      <td>0</td>\n      <td>0</td>\n      <td>1</td>\n    </tr>\n    <tr>\n      <th>986</th>\n      <td>NaN</td>\n      <td>0.537983</td>\n      <td>0.538574</td>\n      <td>0.539758</td>\n      <td>1.0</td>\n      <td>332.0</td>\n      <td>1.0</td>\n      <td>0.0</td>\n      <td>0.0</td>\n      <td>0</td>\n      <td>1</td>\n      <td>0</td>\n      <td>1</td>\n    </tr>\n    <tr>\n      <th>995</th>\n      <td>NaN</td>\n      <td>0.520973</td>\n      <td>0.531471</td>\n      <td>0.529032</td>\n      <td>1.0</td>\n      <td>241.0</td>\n      <td>1.0</td>\n      <td>0.0</td>\n      <td>0.0</td>\n      <td>1</td>\n      <td>0</td>\n      <td>0</td>\n      <td>0</td>\n    </tr>\n    <tr>\n      <th>1001</th>\n      <td>NaN</td>\n      <td>0.515822</td>\n      <td>0.516967</td>\n      <td>0.515909</td>\n      <td>1.0</td>\n      <td>235.0</td>\n      <td>0.0</td>\n      <td>0.0</td>\n      <td>0.0</td>\n      <td>1</td>\n      <td>0</td>\n      <td>0</td>\n      <td>1</td>\n    </tr>\n    <tr>\n      <th>1012</th>\n      <td>NaN</td>\n      <td>0.510195</td>\n      <td>0.510337</td>\n      <td>0.509585</td>\n      <td>1.0</td>\n      <td>252.0</td>\n      <td>0.0</td>\n      <td>0.0</td>\n      <td>0.0</td>\n      <td>1</td>\n      <td>0</td>\n      <td>0</td>\n      <td>1</td>\n    </tr>\n  </tbody>\n</table>\n</div>"
     },
     "metadata": {},
     "output_type": "display_data"
    }
   ],
   "source": [
    "res_last_50 = df.iloc[-50:]\n",
    "\n",
    "P_SL = 0.5\n",
    "display(res_last_50[res_last_50['lg'] > P_SL])"
   ],
   "metadata": {
    "collapsed": false
   }
  },
  {
   "cell_type": "code",
   "execution_count": 18,
   "metadata": {},
   "outputs": [],
   "source": [
    "# flag = True\n",
    "# for i in s:\n",
    "#     p = df.iloc[i]\n",
    "#     if p['alcohol'] == 0 and p['rules_0.01_1.0'] == 0 and p['black'] == 0:\n",
    "#         continue\n",
    "#     else:\n",
    "#         flag = False\n",
    "#         break\n",
    "# print(flag)"
   ]
  },
  {
   "attachments": {},
   "cell_type": "markdown",
   "metadata": {},
   "source": [
    "# Шаг 4. Проверка гипотезы о значимости модели в целом"
   ]
  },
  {
   "cell_type": "code",
   "execution_count": 70,
   "metadata": {},
   "outputs": [
    {
     "name": "stdout",
     "output_type": "stream",
     "text": [
      "LR: 63.0000\n",
      "P-value: 0.0000000001198089\n"
     ]
    }
   ],
   "source": [
    "n_m = sm.Probit(Y, np.ones(Y.shape[0])).fit(disp=0)\n",
    "LR = 2 * (pr_model.llf - n_m.llf)\n",
    "\n",
    "p_value = chi2.sf(LR, df=pr_model.df_model)\n",
    "print(f\"LR: {LR:.4f}\")\n",
    "print(f\"P-value: {p_value:.16f}\")"
   ]
  },
  {
   "attachments": {},
   "cell_type": "markdown",
   "metadata": {},
   "source": [
    "# Шаг 5. Чувствительность и специфичность"
   ]
  },
  {
   "cell_type": "code",
   "execution_count": 80,
   "metadata": {},
   "outputs": [
    {
     "data": {
      "text/plain": "<Figure size 640x480 with 1 Axes>",
      "image/png": "[encoded data removed]"
     },
     "metadata": {},
     "output_type": "display_data"
    },
    {
     "name": "stdout",
     "output_type": "stream",
     "text": [
      "Threshold: 0.3131\n",
      "Specificity at sensitivity 80%: 0.3677\n"
     ]
    }
   ],
   "source": [
    "from sklearn.metrics import confusion_matrix\n",
    "\n",
    "sensitivity = []\n",
    "specificity = []\n",
    "\n",
    "thresholds = np.linspace(0, 1, 100)\n",
    "\n",
    "for c in thresholds:\n",
    "    y_pred = np.where(pr_model_pred[:Y.size] > c, 1, 0)\n",
    "    tn, fp, fn, tp = confusion_matrix(y_pred=y_pred, y_true=Y).ravel()\n",
    "\n",
    "    sensitivity.append(tp / (tp + fn))\n",
    "    specificity.append(tn / (tn + fp))\n",
    "\n",
    "plt.title('Sensitivity and Specificity')\n",
    "\n",
    "plt.plot(thresholds, sensitivity, label=\"Sensitivity\")\n",
    "plt.plot(thresholds, specificity, label=\"Specificity\")\n",
    "\n",
    "plt.xlabel('Thresholds (c)')\n",
    "plt.ylabel('P')\n",
    "\n",
    "plt.legend()\n",
    "plt.grid()\n",
    "\n",
    "plt.xticks(np.arange(0, 1.1, 0.1))\n",
    "plt.yticks(np.arange(0, 1.1, 0.1))\n",
    "\n",
    "plt.show()\n",
    "\n",
    "sensitivity = np.array(sensitivity)\n",
    "specificity = np.array(specificity)\n",
    "\n",
    "c = thresholds[sensitivity >= 0.8][-1]\n",
    "spec_at_80 = specificity[sensitivity >= 0.8][-1]\n",
    "\n",
    "print(f\"Threshold: {c:.4f}\")\n",
    "print(f\"Specificity at sensitivity 80%: {spec_at_80:.4f}\")"
   ]
  }
 ],
 "metadata": {
  "kernelspec": {
   "display_name": "Python 3",
   "language": "python",
   "name": "python3"
  },
  "language_info": {
   "codemirror_mode": {
    "name": "ipython",
    "version": 3
   },
   "file_extension": ".py",
   "mimetype": "text/x-python",
   "name": "python",
   "nbconvert_exporter": "python",
   "pygments_lexer": "ipython3",
   "version": "3.11.4"
  },
  "orig_nbformat": 4
 },
 "nbformat": 4,
 "nbformat_minor": 2
}
