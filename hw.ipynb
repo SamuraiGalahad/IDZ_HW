{
 "cells": [
  {
   "attachments": {},
   "cell_type": "markdown",
   "metadata": {},
   "source": [
    "# ИДЗ. Вариант 4\n",
    "Выполнили Евсеев Евгений, Парахин Николай и Тимофей Тихонов\n",
    "Группа: БПИ 212"
   ]
  },
  {
   "attachments": {},
   "cell_type": "markdown",
   "metadata": {},
   "source": [
    "## Условие\n",
    "Файл «Данные.xls» содержит выборки из одной и той же базы данных о бывших заключенных.\n",
    "\n",
    "Описание переменных:\n",
    "\n",
    "recid – 1, если заключенный – рецидивист, то есть совершил повторное преступление, 0 иначе;\n",
    "\n",
    "age – возраст заключенного в месяцах;\n",
    "\n",
    "black – 1, если преступник – представитель негроидной расы, 0 иначе;\n",
    "\n",
    "married – 1, если преступник женат, 0 иначе;\n",
    "\n",
    "alcohol – 1, если у заключенного проблемы с алкоголем, 0 иначе; \n",
    "\n",
    "drugs – 1, если у заключенного проблемы с наркотиками, 0 иначе; \n",
    "\n",
    "felon – 1 если приговор за тяжкое преступление.\n",
    "\n",
    "educ – количество лет школьного образования\n",
    "\n",
    "rules – количество нарушений правил в тюрьме\n",
    "\n",
    "В каждом варианте значение переменная recid известно во всех наблюдениях, кроме последних 50. Эти наблюдения оставлены для прогноза (будем считать, что это преступники, еще не совершившие рецидив).\n",
    "\n",
    "Для выполнения задания выберите следующие переменные: recid – объясняемая переменная\n",
    "age, black, married, alcohol, rules - регрессоры \n",
    "\n",
    "Рекомендации:\n",
    "Можно из непрерывных переменных educ и rules сконструировать dummy-переменные и ввести их в модель. Например, dummy-переменная по возрасту:\n",
    "\n",
    "age_22 – индикатор того, что возраст преступника до 22 лет,\n",
    "\n",
    "age_22_30 – индикатор того, что возраст преступника от 22 до 30 лет и\n",
    "\n",
    "age_30 – индикатор того, что возраст преступника свыше 30 лет.\n",
    "\n",
    "При этом не забываем, что в модель включаем только любые 2 из 3 dummy-переменных (например, age_22 и age_30), чтобы не возникло мультиколлинеарности в данных.\n",
    "\n",
    "\n",
    "__Выполните следующие пункты задания:__\n",
    "\n",
    "16) Оцените три модели, связывающую вероятность повторного преступления с остальными признаками: \n",
    "    1) линейную, \n",
    "    2) логит, \n",
    "    3) пробит.\n",
    "\n",
    "17) Дайте словесное описание полученных результатов на примере логит-модели. Какие из переменных получились значимыми? Выпишите оцененную ковариационную матрицу оценок коэффициентов.\n",
    "\n",
    "18) По каждой модели рассчитайте оцените вероятность повторного преступления для всех наблюдений, включая 50 последних (где неизвестно значение recid). Есть ли заметные различия между прогнозируемыми вероятностями? В каких наблюдениях возникают наибольшие расхождения? Кому из ещё не совершивших рецидива бывших заключенных требуется уделить особое внимание?\n",
    "\n",
    "19) На примере probit модели проверьте значимость модели в целом тестом отношения правдоподобия. Рассчитайте p-значение.\n",
    "̂\n",
    "\n",
    "20) Этот пункт сделайте для probit модели. Рассмотрим прогнозное правило типа 𝑙𝑜𝑤𝑖 = 1,\n",
    "̂\n",
    "если 𝑃(𝑙𝑜𝑤𝑖 = 1) > 𝑐 , иначе 𝑙𝑜𝑤𝑖 = 0 , где c – некое пороговое значение для\n",
    "моделируемой вероятности. \n",
    "Чувствительностью называется доля верных прогнозов среди всех наблюдений, где 𝑙𝑜𝑤𝑖 = 1(способность модели правильно предсказывать «единички»).\n",
    "Специфичностью называется доля верных прогнозов среди всех наблюдений, где 𝑙𝑜𝑤𝑖 = 0 (способность модели правильно предсказывать «нули»). Рассчитайте чувствительность и специфичность для разных пороговых значений c от 0 до 1, постройте график зависимости чувствительности и специфичности от c.\n",
    "Требуется, чтобы прогнозная модель имела чувствительность не ниже 80%. Каким должен быть порог c? Какой специфичности можно добиться в этом случае?"
   ]
  },
  {
   "cell_type": "code",
   "execution_count": 25,
   "metadata": {},
   "outputs": [],
   "source": [
    "import statsmodels.api as sm\n",
    "import numpy as np\n",
    "import pandas as pd\n",
    "import matplotlib.pyplot as plt"
   ]
  },
  {
   "cell_type": "code",
   "execution_count": 26,
   "metadata": {},
   "outputs": [
    {
     "data": {
      "text/html": [
       "<div>\n",
       "<style scoped>\n",
       "    .dataframe tbody tr th:only-of-type {\n",
       "        vertical-align: middle;\n",
       "    }\n",
       "\n",
       "    .dataframe tbody tr th {\n",
       "        vertical-align: top;\n",
       "    }\n",
       "\n",
       "    .dataframe thead th {\n",
       "        text-align: right;\n",
       "    }\n",
       "</style>\n",
       "<table border=\"1\" class=\"dataframe\">\n",
       "  <thead>\n",
       "    <tr style=\"text-align: right;\">\n",
       "      <th></th>\n",
       "      <th>recid</th>\n",
       "      <th>black</th>\n",
       "      <th>alcohol</th>\n",
       "      <th>drugs</th>\n",
       "      <th>married</th>\n",
       "      <th>felon</th>\n",
       "      <th>educ</th>\n",
       "      <th>rules</th>\n",
       "      <th>age</th>\n",
       "    </tr>\n",
       "  </thead>\n",
       "  <tbody>\n",
       "    <tr>\n",
       "      <th>count</th>\n",
       "      <td>963.000000</td>\n",
       "      <td>1013.000000</td>\n",
       "      <td>1013.000000</td>\n",
       "      <td>1013.000000</td>\n",
       "      <td>1013.000000</td>\n",
       "      <td>1013.000000</td>\n",
       "      <td>1013.000000</td>\n",
       "      <td>1013.000000</td>\n",
       "      <td>1013.000000</td>\n",
       "    </tr>\n",
       "    <tr>\n",
       "      <th>mean</th>\n",
       "      <td>0.395639</td>\n",
       "      <td>0.467917</td>\n",
       "      <td>0.220138</td>\n",
       "      <td>0.238894</td>\n",
       "      <td>0.261599</td>\n",
       "      <td>0.313919</td>\n",
       "      <td>9.720632</td>\n",
       "      <td>1.229023</td>\n",
       "      <td>342.304047</td>\n",
       "    </tr>\n",
       "    <tr>\n",
       "      <th>std</th>\n",
       "      <td>0.489242</td>\n",
       "      <td>0.499216</td>\n",
       "      <td>0.414544</td>\n",
       "      <td>0.426619</td>\n",
       "      <td>0.439723</td>\n",
       "      <td>0.464313</td>\n",
       "      <td>2.396048</td>\n",
       "      <td>2.395414</td>\n",
       "      <td>120.245419</td>\n",
       "    </tr>\n",
       "    <tr>\n",
       "      <th>min</th>\n",
       "      <td>0.000000</td>\n",
       "      <td>0.000000</td>\n",
       "      <td>0.000000</td>\n",
       "      <td>0.000000</td>\n",
       "      <td>0.000000</td>\n",
       "      <td>0.000000</td>\n",
       "      <td>1.000000</td>\n",
       "      <td>0.000000</td>\n",
       "      <td>198.000000</td>\n",
       "    </tr>\n",
       "    <tr>\n",
       "      <th>25%</th>\n",
       "      <td>0.000000</td>\n",
       "      <td>0.000000</td>\n",
       "      <td>0.000000</td>\n",
       "      <td>0.000000</td>\n",
       "      <td>0.000000</td>\n",
       "      <td>0.000000</td>\n",
       "      <td>8.000000</td>\n",
       "      <td>0.000000</td>\n",
       "      <td>256.000000</td>\n",
       "    </tr>\n",
       "    <tr>\n",
       "      <th>50%</th>\n",
       "      <td>0.000000</td>\n",
       "      <td>0.000000</td>\n",
       "      <td>0.000000</td>\n",
       "      <td>0.000000</td>\n",
       "      <td>0.000000</td>\n",
       "      <td>0.000000</td>\n",
       "      <td>10.000000</td>\n",
       "      <td>0.000000</td>\n",
       "      <td>303.000000</td>\n",
       "    </tr>\n",
       "    <tr>\n",
       "      <th>75%</th>\n",
       "      <td>1.000000</td>\n",
       "      <td>1.000000</td>\n",
       "      <td>0.000000</td>\n",
       "      <td>0.000000</td>\n",
       "      <td>1.000000</td>\n",
       "      <td>1.000000</td>\n",
       "      <td>11.000000</td>\n",
       "      <td>1.000000</td>\n",
       "      <td>388.000000</td>\n",
       "    </tr>\n",
       "    <tr>\n",
       "      <th>max</th>\n",
       "      <td>1.000000</td>\n",
       "      <td>1.000000</td>\n",
       "      <td>1.000000</td>\n",
       "      <td>1.000000</td>\n",
       "      <td>1.000000</td>\n",
       "      <td>1.000000</td>\n",
       "      <td>18.000000</td>\n",
       "      <td>27.000000</td>\n",
       "      <td>933.000000</td>\n",
       "    </tr>\n",
       "  </tbody>\n",
       "</table>\n",
       "</div>"
      ],
      "text/plain": [
       "            recid        black      alcohol        drugs      married  \\\n",
       "count  963.000000  1013.000000  1013.000000  1013.000000  1013.000000   \n",
       "mean     0.395639     0.467917     0.220138     0.238894     0.261599   \n",
       "std      0.489242     0.499216     0.414544     0.426619     0.439723   \n",
       "min      0.000000     0.000000     0.000000     0.000000     0.000000   \n",
       "25%      0.000000     0.000000     0.000000     0.000000     0.000000   \n",
       "50%      0.000000     0.000000     0.000000     0.000000     0.000000   \n",
       "75%      1.000000     1.000000     0.000000     0.000000     1.000000   \n",
       "max      1.000000     1.000000     1.000000     1.000000     1.000000   \n",
       "\n",
       "             felon         educ        rules          age  \n",
       "count  1013.000000  1013.000000  1013.000000  1013.000000  \n",
       "mean      0.313919     9.720632     1.229023   342.304047  \n",
       "std       0.464313     2.396048     2.395414   120.245419  \n",
       "min       0.000000     1.000000     0.000000   198.000000  \n",
       "25%       0.000000     8.000000     0.000000   256.000000  \n",
       "50%       0.000000    10.000000     0.000000   303.000000  \n",
       "75%       1.000000    11.000000     1.000000   388.000000  \n",
       "max       1.000000    18.000000    27.000000   933.000000  "
      ]
     },
     "execution_count": 26,
     "metadata": {},
     "output_type": "execute_result"
    }
   ],
   "source": [
    "# Data import\n",
    "data = pd.read_csv('data/data_v4.csv', sep=';')\n",
    "data = data.astype(float)\n",
    "data.describe()"
   ]
  },
  {
   "cell_type": "code",
   "execution_count": 27,
   "metadata": {},
   "outputs": [
    {
     "data": {
      "image/png": "[encoded data removed]",
      "text/plain": [
       "<Figure size 640x480 with 1 Axes>"
      ]
     },
     "metadata": {},
     "output_type": "display_data"
    },
    {
     "data": {
      "image/png": "[encoded data removed]",
      "text/plain": [
       "<Figure size 640x480 with 1 Axes>"
      ]
     },
     "metadata": {},
     "output_type": "display_data"
    },
    {
     "data": {
      "image/png": "[encoded data removed]",
      "text/plain": [
       "<Figure size 640x480 with 1 Axes>"
      ]
     },
     "metadata": {},
     "output_type": "display_data"
    }
   ],
   "source": [
    "plt.hist(data['educ'], bins=10)\n",
    "plt.title('Education distribution')\n",
    "plt.show()\n",
    "\n",
    "plt.hist(data['rules'], bins=10)\n",
    "plt.title('Rules distribution')\n",
    "plt.show()\n",
    "\n",
    "plt.hist(data['age'], bins=10)\n",
    "plt.title('Age distribution')\n",
    "plt.show()"
   ]
  },
  {
   "cell_type": "code",
   "execution_count": 28,
   "metadata": {},
   "outputs": [
    {
     "name": "stdout",
     "output_type": "stream",
     "text": [
      "Educ bounds [0, 9.0, 11.0, 18.0]\n",
      "Rules bounds [0, 0.01, 1.0, 27.0]\n"
     ]
    }
   ],
   "source": [
    "GROUPS_COUNT = 3\n",
    "\n",
    "educ_bounds = [0]\n",
    "for i in range(1, GROUPS_COUNT + 1):\n",
    "    educ_bounds.append(data['educ'].quantile(i / GROUPS_COUNT))\n",
    "\n",
    "rules_bounds = [0]\n",
    "for i in range(1, GROUPS_COUNT + 1):\n",
    "    rules_bounds.append(data['rules'].quantile(i / GROUPS_COUNT))\n",
    "\n",
    "# TODO: fix\n",
    "rules_bounds[1] = 0.01\n",
    "\n",
    "print(\"Educ bounds\", educ_bounds)\n",
    "print(\"Rules bounds\", rules_bounds)"
   ]
  },
  {
   "cell_type": "code",
   "execution_count": 29,
   "metadata": {},
   "outputs": [
    {
     "name": "stdout",
     "output_type": "stream",
     "text": [
      "      educ_0_9.0  educ_9.0_11.0  educ_11.0_18.0\n",
      "0              1              0               0\n",
      "1              0              0               1\n",
      "2              1              0               0\n",
      "3              0              0               1\n",
      "4              0              0               1\n",
      "...          ...            ...             ...\n",
      "1008           1              0               0\n",
      "1009           0              0               1\n",
      "1010           0              0               1\n",
      "1011           0              0               1\n",
      "1012           1              0               0\n",
      "\n",
      "[1013 rows x 3 columns]\n",
      "      rules_0_0.01  rules_0.01_1.0  rules_1.0_27.0\n",
      "0                0               0               1\n",
      "1                0               0               0\n",
      "2                0               0               1\n",
      "3                0               0               0\n",
      "4                0               0               1\n",
      "...            ...             ...             ...\n",
      "1008             0               0               1\n",
      "1009             0               0               1\n",
      "1010             0               0               0\n",
      "1011             0               0               0\n",
      "1012             0               0               1\n",
      "\n",
      "[1013 rows x 3 columns]\n"
     ]
    }
   ],
   "source": [
    "# Education\n",
    "educ_dummies = pd.get_dummies(pd.cut(data['educ'], educ_bounds))\n",
    "educ_dummies_names = ['educ_' + str(educ_bounds[i]) + '_' + str(educ_bounds[i + 1]) for i in range(len(educ_bounds) - 1)]\n",
    "educ_dummies = educ_dummies.astype(int)\n",
    "educ_dummies.columns = educ_dummies_names\n",
    "print(educ_dummies)\n",
    "\n",
    "# Rules\n",
    "rules_dummies = pd.get_dummies(pd.cut(data['rules'], rules_bounds))\n",
    "rules_dummies_names = ['rules_' + str(rules_bounds[i]) + '_' + str(rules_bounds[i + 1]) for i in range(len(rules_bounds) - 1)]\n",
    "rules_dummies = rules_dummies.astype(int)\n",
    "rules_dummies.columns = rules_dummies_names\n",
    "print(rules_dummies)"
   ]
  },
  {
   "cell_type": "code",
   "execution_count": 35,
   "metadata": {},
   "outputs": [],
   "source": [
    "data_needed = data[['recid', 'age', 'black', 'married', 'alcohol']]\n",
    "data_w_d_col = pd.concat([data_needed, educ_dummies, rules_dummies], axis=1)\n",
    "data_w_d_uncol = pd.concat([data_needed, educ_dummies.drop(educ_dummies.columns[2], axis=1), rules_dummies.drop(rules_dummies.columns[0], axis=1)], axis=1)"
   ]
  },
  {
   "attachments": {},
   "cell_type": "markdown",
   "metadata": {},
   "source": [
    "Посчитаем линейную модель:"
   ]
  },
  {
   "cell_type": "code",
   "execution_count": 36,
   "metadata": {},
   "outputs": [
    {
     "name": "stdout",
     "output_type": "stream",
     "text": [
      "                            OLS Regression Results                            \n",
      "==============================================================================\n",
      "Dep. Variable:                  recid   R-squared:                       0.064\n",
      "Model:                            OLS   Adj. R-squared:                  0.056\n",
      "Method:                 Least Squares   F-statistic:                     8.124\n",
      "Date:                Fri, 09 Jun 2023   Prob (F-statistic):           1.16e-10\n",
      "Time:                        11:34:56   Log-Likelihood:                -645.76\n",
      "No. Observations:                 963   AIC:                             1310.\n",
      "Df Residuals:                     954   BIC:                             1353.\n",
      "Df Model:                           8                                         \n",
      "Covariance Type:            nonrobust                                         \n",
      "==================================================================================\n",
      "                     coef    std err          t      P>|t|      [0.025      0.975]\n",
      "----------------------------------------------------------------------------------\n",
      "const              0.3287      0.060      5.443      0.000       0.210       0.447\n",
      "age               -0.0003      0.000     -2.419      0.016      -0.001   -6.24e-05\n",
      "black              0.1240      0.031      3.938      0.000       0.062       0.186\n",
      "married           -0.0507      0.036     -1.407      0.160      -0.121       0.020\n",
      "alcohol            0.1325      0.038      3.485      0.001       0.058       0.207\n",
      "educ_0_9.0         0.0697      0.039      1.783      0.075      -0.007       0.146\n",
      "educ_9.0_11.0      0.0397      0.042      0.954      0.340      -0.042       0.121\n",
      "rules_0.01_1.0     0.0784      0.039      1.995      0.046       0.001       0.156\n",
      "rules_1.0_27.0     0.1953      0.038      5.104      0.000       0.120       0.270\n",
      "==============================================================================\n",
      "Omnibus:                     5600.591   Durbin-Watson:                   1.958\n",
      "Prob(Omnibus):                  0.000   Jarque-Bera (JB):              125.340\n",
      "Skew:                           0.389   Prob(JB):                     6.06e-28\n",
      "Kurtosis:                       1.413   Cond. No.                     1.66e+03\n",
      "==============================================================================\n",
      "\n",
      "Notes:\n",
      "[1] Standard Errors assume that the covariance matrix of the errors is correctly specified.\n",
      "[2] The condition number is large, 1.66e+03. This might indicate that there are\n",
      "strong multicollinearity or other numerical problems.\n"
     ]
    }
   ],
   "source": [
    "# Linear regression\n",
    "\n",
    "# Create X and y\n",
    "data_w_d_uncol_no_na = data_w_d_uncol.dropna()\n",
    "X = data_w_d_uncol_no_na.drop(['recid'], axis=1)\n",
    "y = data_w_d_uncol_no_na['recid']\n",
    "# Add constant\n",
    "X = sm.add_constant(X)\n",
    "\n",
    "# Fit model\n",
    "model = sm.OLS(y, X).fit()\n",
    "\n",
    "predictions = model.predict(X)\n",
    "\n",
    "# Print model summary\n",
    "print(model.summary())"
   ]
  },
  {
   "attachments": {},
   "cell_type": "markdown",
   "metadata": {},
   "source": [
    "Посчитаем модель Logit"
   ]
  },
  {
   "cell_type": "code",
   "execution_count": 39,
   "metadata": {},
   "outputs": [
    {
     "name": "stdout",
     "output_type": "stream",
     "text": [
      "Optimization terminated successfully.\n",
      "         Current function value: 0.638539\n",
      "         Iterations 5\n"
     ]
    },
    {
     "ename": "AttributeError",
     "evalue": "'LogitResults' object has no attribute 'fit'",
     "output_type": "error",
     "traceback": [
      "\u001b[0;31m---------------------------------------------------------------------------\u001b[0m",
      "\u001b[0;31mAttributeError\u001b[0m                            Traceback (most recent call last)",
      "Cell \u001b[0;32mIn[39], line 9\u001b[0m\n\u001b[1;32m      5\u001b[0m model \u001b[39m=\u001b[39m sm\u001b[39m.\u001b[39mLogit(y, X)\u001b[39m.\u001b[39mfit()\n\u001b[1;32m      7\u001b[0m predictions_l \u001b[39m=\u001b[39m model\u001b[39m.\u001b[39mpredict(X)\n\u001b[0;32m----> 9\u001b[0m res \u001b[39m=\u001b[39m model\u001b[39m.\u001b[39;49mfit()\n\u001b[1;32m     11\u001b[0m \u001b[39m# Print model summary\u001b[39;00m\n\u001b[1;32m     12\u001b[0m \u001b[39mprint\u001b[39m(model\u001b[39m.\u001b[39msummary())\n",
      "File \u001b[0;32m~/development/IDZ_HW/.venv/lib/python3.11/site-packages/statsmodels/base/wrapper.py:34\u001b[0m, in \u001b[0;36mResultsWrapper.__getattribute__\u001b[0;34m(self, attr)\u001b[0m\n\u001b[1;32m     31\u001b[0m \u001b[39mexcept\u001b[39;00m \u001b[39mAttributeError\u001b[39;00m:\n\u001b[1;32m     32\u001b[0m     \u001b[39mpass\u001b[39;00m\n\u001b[0;32m---> 34\u001b[0m obj \u001b[39m=\u001b[39m \u001b[39mgetattr\u001b[39m(results, attr)\n\u001b[1;32m     35\u001b[0m data \u001b[39m=\u001b[39m results\u001b[39m.\u001b[39mmodel\u001b[39m.\u001b[39mdata\n\u001b[1;32m     36\u001b[0m how \u001b[39m=\u001b[39m \u001b[39mself\u001b[39m\u001b[39m.\u001b[39m_wrap_attrs\u001b[39m.\u001b[39mget(attr)\n",
      "\u001b[0;31mAttributeError\u001b[0m: 'LogitResults' object has no attribute 'fit'"
     ]
    }
   ],
   "source": [
    "# Logit\n",
    "# Using same X and Y\n",
    "\n",
    "# Fit model\n",
    "model = sm.Logit(y, X).fit()\n",
    "\n",
    "predictions_l = model.predict(X)\n",
    "\n",
    "# Print model summary\n",
    "print(model.summary())"
   ]
  },
  {
   "attachments": {},
   "cell_type": "markdown",
   "metadata": {},
   "source": [
    "Посчитаем модель Probit"
   ]
  },
  {
   "cell_type": "code",
   "execution_count": 32,
   "metadata": {},
   "outputs": [
    {
     "name": "stdout",
     "output_type": "stream",
     "text": [
      "Optimization terminated successfully.\n",
      "         Current function value: 0.638493\n",
      "         Iterations 5\n",
      "                          Probit Regression Results                           \n",
      "==============================================================================\n",
      "Dep. Variable:                  recid   No. Observations:                  963\n",
      "Model:                         Probit   Df Residuals:                      954\n",
      "Method:                           MLE   Df Model:                            8\n",
      "Date:                Fri, 09 Jun 2023   Pseudo R-squ.:                 0.04873\n",
      "Time:                        10:00:44   Log-Likelihood:                -614.87\n",
      "converged:                       True   LL-Null:                       -646.37\n",
      "Covariance Type:            nonrobust   LLR p-value:                 1.198e-10\n",
      "==================================================================================\n",
      "                     coef    std err          z      P>|z|      [0.025      0.975]\n",
      "----------------------------------------------------------------------------------\n",
      "const             -0.4463      0.169     -2.647      0.008      -0.777      -0.116\n",
      "age               -0.0009      0.000     -2.415      0.016      -0.002      -0.000\n",
      "black              0.3390      0.086      3.945      0.000       0.171       0.507\n",
      "married           -0.1425      0.099     -1.433      0.152      -0.337       0.052\n",
      "alcohol            0.3649      0.103      3.539      0.000       0.163       0.567\n",
      "educ_0_9.0         0.1885      0.107      1.757      0.079      -0.022       0.399\n",
      "educ_9.0_11.0      0.1061      0.114      0.933      0.351      -0.117       0.329\n",
      "rules_0.01_1.0     0.2164      0.106      2.034      0.042       0.008       0.425\n",
      "rules_1.0_27.0     0.5169      0.103      5.001      0.000       0.314       0.719\n",
      "==================================================================================\n"
     ]
    }
   ],
   "source": [
    "# Probit\n",
    "\n",
    "probit_m = sm.Probit(y, X)\n",
    "predict_prob = probit_m.fit()\n",
    "print(predict_prob.summary())"
   ]
  },
  {
   "cell_type": "code",
   "execution_count": 38,
   "metadata": {},
   "outputs": [
    {
     "ename": "AttributeError",
     "evalue": "'Series' object has no attribute 'cov_params'",
     "output_type": "error",
     "traceback": [
      "\u001b[0;31m---------------------------------------------------------------------------\u001b[0m",
      "\u001b[0;31mAttributeError\u001b[0m                            Traceback (most recent call last)",
      "\u001b[0;32m/var/folders/nn/d92p56f95pjddgg9989x4s680000gn/T/ipykernel_6846/1310672213.py\u001b[0m in \u001b[0;36m?\u001b[0;34m()\u001b[0m\n\u001b[0;32m----> 1\u001b[0;31m \u001b[0mmatrix\u001b[0m \u001b[0;34m=\u001b[0m \u001b[0mpredictions_l\u001b[0m\u001b[0;34m.\u001b[0m\u001b[0mcov_params\u001b[0m\u001b[0;34m(\u001b[0m\u001b[0;34m)\u001b[0m\u001b[0;34m\u001b[0m\u001b[0;34m\u001b[0m\u001b[0m\n\u001b[0m\u001b[1;32m      2\u001b[0m \u001b[0mdisplay\u001b[0m\u001b[0;34m(\u001b[0m\u001b[0mmatrix\u001b[0m\u001b[0;34m)\u001b[0m\u001b[0;34m\u001b[0m\u001b[0;34m\u001b[0m\u001b[0m\n",
      "\u001b[0;32m~/development/IDZ_HW/.venv/lib/python3.11/site-packages/pandas/core/generic.py\u001b[0m in \u001b[0;36m?\u001b[0;34m(self, name)\u001b[0m\n\u001b[1;32m   5985\u001b[0m             \u001b[0;32mand\u001b[0m \u001b[0mname\u001b[0m \u001b[0;32mnot\u001b[0m \u001b[0;32min\u001b[0m \u001b[0mself\u001b[0m\u001b[0;34m.\u001b[0m\u001b[0m_accessors\u001b[0m\u001b[0;34m\u001b[0m\u001b[0;34m\u001b[0m\u001b[0m\n\u001b[1;32m   5986\u001b[0m             \u001b[0;32mand\u001b[0m \u001b[0mself\u001b[0m\u001b[0;34m.\u001b[0m\u001b[0m_info_axis\u001b[0m\u001b[0;34m.\u001b[0m\u001b[0m_can_hold_identifiers_and_holds_name\u001b[0m\u001b[0;34m(\u001b[0m\u001b[0mname\u001b[0m\u001b[0;34m)\u001b[0m\u001b[0;34m\u001b[0m\u001b[0;34m\u001b[0m\u001b[0m\n\u001b[1;32m   5987\u001b[0m         ):\n\u001b[1;32m   5988\u001b[0m             \u001b[0;32mreturn\u001b[0m \u001b[0mself\u001b[0m\u001b[0;34m[\u001b[0m\u001b[0mname\u001b[0m\u001b[0;34m]\u001b[0m\u001b[0;34m\u001b[0m\u001b[0;34m\u001b[0m\u001b[0m\n\u001b[0;32m-> 5989\u001b[0;31m         \u001b[0;32mreturn\u001b[0m \u001b[0mobject\u001b[0m\u001b[0;34m.\u001b[0m\u001b[0m__getattribute__\u001b[0m\u001b[0;34m(\u001b[0m\u001b[0mself\u001b[0m\u001b[0;34m,\u001b[0m \u001b[0mname\u001b[0m\u001b[0;34m)\u001b[0m\u001b[0;34m\u001b[0m\u001b[0;34m\u001b[0m\u001b[0m\n\u001b[0m",
      "\u001b[0;31mAttributeError\u001b[0m: 'Series' object has no attribute 'cov_params'"
     ]
    }
   ],
   "source": [
    "matrix = model.cov_params()\n",
    "display(matrix)"
   ]
  },
  {
   "attachments": {},
   "cell_type": "markdown",
   "metadata": {},
   "source": []
  },
  {
   "attachments": {},
   "cell_type": "markdown",
   "metadata": {},
   "source": []
  }
 ],
 "metadata": {
  "kernelspec": {
   "display_name": "Python 3",
   "language": "python",
   "name": "python3"
  },
  "language_info": {
   "codemirror_mode": {
    "name": "ipython",
    "version": 3
   },
   "file_extension": ".py",
   "mimetype": "text/x-python",
   "name": "python",
   "nbconvert_exporter": "python",
   "pygments_lexer": "ipython3",
   "version": "3.11.4"
  },
  "orig_nbformat": 4
 },
 "nbformat": 4,
 "nbformat_minor": 2
}
