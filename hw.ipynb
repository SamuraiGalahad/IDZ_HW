{
 "cells": [
  {
   "attachments": {},
   "cell_type": "markdown",
   "metadata": {},
   "source": [
    "# ИДЗ. Вариант 4\n",
    "Выполнили Евсеев Евгений, Парахин Николай и Тимофей Тихонов\n",
    "Группа: БПИ 212"
   ]
  },
  {
   "attachments": {},
   "cell_type": "markdown",
   "metadata": {},
   "source": [
    "## Условие\n",
    "Файл «Данные.xls» содержит выборки из одной и той же базы данных о бывших заключенных.\n",
    "\n",
    "Описание переменных:\n",
    "\n",
    "recid – 1, если заключенный – рецидивист, то есть совершил повторное преступление, 0 иначе;\n",
    "\n",
    "age – возраст заключенного в месяцах;\n",
    "\n",
    "black – 1, если преступник – представитель негроидной расы, 0 иначе;\n",
    "\n",
    "married – 1, если преступник женат, 0 иначе;\n",
    "\n",
    "alcohol – 1, если у заключенного проблемы с алкоголем, 0 иначе; \n",
    "\n",
    "drugs – 1, если у заключенного проблемы с наркотиками, 0 иначе; \n",
    "\n",
    "felon – 1 если приговор за тяжкое преступление.\n",
    "\n",
    "educ – количество лет школьного образования\n",
    "\n",
    "rules – количество нарушений правил в тюрьме\n",
    "\n",
    "В каждом варианте значение переменная recid известно во всех наблюдениях, кроме последних 50. Эти наблюдения оставлены для прогноза (будем считать, что это преступники, еще не совершившие рецидив).\n",
    "\n",
    "Для выполнения задания выберите следующие переменные: recid – объясняемая переменная\n",
    "age, black, married, alcohol, rules - регрессоры \n",
    "\n",
    "Рекомендации:\n",
    "Можно из непрерывных переменных educ и rules сконструировать dummy-переменные и ввести их в модель. Например, dummy-переменная по возрасту:\n",
    "\n",
    "age_22 – индикатор того, что возраст преступника до 22 лет,\n",
    "\n",
    "age_22_30 – индикатор того, что возраст преступника от 22 до 30 лет и\n",
    "\n",
    "age_30 – индикатор того, что возраст преступника свыше 30 лет.\n",
    "\n",
    "При этом не забываем, что в модель включаем только любые 2 из 3 dummy-переменных (например, age_22 и age_30), чтобы не возникло мультиколлинеарности в данных.\n",
    "\n",
    "\n",
    "__Выполните следующие пункты задания:__\n",
    "\n",
    "16) Оцените три модели, связывающую вероятность повторного преступления с остальными признаками: \n",
    "    1) линейную, \n",
    "    2) логит, \n",
    "    3) пробит.\n",
    "\n",
    "17) Дайте словесное описание полученных результатов на примере логит-модели. Какие из переменных получились значимыми? Выпишите оцененную ковариационную матрицу оценок коэффициентов.\n",
    "\n",
    "18) По каждой модели рассчитайте оцените вероятность повторного преступления для всех наблюдений, включая 50 последних (где неизвестно значение recid). Есть ли заметные различия между прогнозируемыми вероятностями? В каких наблюдениях возникают наибольшие расхождения? Кому из ещё не совершивших рецидива бывших заключенных требуется уделить особое внимание?\n",
    "\n",
    "19) На примере probit модели проверьте значимость модели в целом тестом отношения правдоподобия. Рассчитайте p-значение.\n",
    "̂\n",
    "\n",
    "20) Этот пункт сделайте для probit модели. Рассмотрим прогнозное правило типа 𝑙𝑜𝑤𝑖 = 1,\n",
    "̂\n",
    "если 𝑃(𝑙𝑜𝑤𝑖 = 1) > 𝑐 , иначе 𝑙𝑜𝑤𝑖 = 0 , где c – некое пороговое значение для\n",
    "моделируемой вероятности. \n",
    "Чувствительностью называется доля верных прогнозов среди всех наблюдений, где 𝑙𝑜𝑤𝑖 = 1(способность модели правильно предсказывать «единички»).\n",
    "Специфичностью называется доля верных прогнозов среди всех наблюдений, где 𝑙𝑜𝑤𝑖 = 0 (способность модели правильно предсказывать «нули»). Рассчитайте чувствительность и специфичность для разных пороговых значений c от 0 до 1, постройте график зависимости чувствительности и специфичности от c.\n",
    "Требуется, чтобы прогнозная модель имела чувствительность не ниже 80%. Каким должен быть порог c? Какой специфичности можно добиться в этом случае?"
   ]
  },
  {
   "cell_type": "code",
   "execution_count": 120,
   "metadata": {},
   "outputs": [],
   "source": [
    "import statsmodels.api as sm\n",
    "import numpy as np\n",
    "import pandas as pd\n",
    "import matplotlib.pyplot as plt\n",
    "from sklearn.metrics import mean_squared_error\n",
    "from scipy.stats.distributions import chi2"
   ]
  },
  {
   "cell_type": "code",
   "execution_count": 95,
   "metadata": {},
   "outputs": [
    {
     "data": {
      "text/html": [
       "<div>\n",
       "<style scoped>\n",
       "    .dataframe tbody tr th:only-of-type {\n",
       "        vertical-align: middle;\n",
       "    }\n",
       "\n",
       "    .dataframe tbody tr th {\n",
       "        vertical-align: top;\n",
       "    }\n",
       "\n",
       "    .dataframe thead th {\n",
       "        text-align: right;\n",
       "    }\n",
       "</style>\n",
       "<table border=\"1\" class=\"dataframe\">\n",
       "  <thead>\n",
       "    <tr style=\"text-align: right;\">\n",
       "      <th></th>\n",
       "      <th>recid</th>\n",
       "      <th>black</th>\n",
       "      <th>alcohol</th>\n",
       "      <th>drugs</th>\n",
       "      <th>married</th>\n",
       "      <th>felon</th>\n",
       "      <th>educ</th>\n",
       "      <th>rules</th>\n",
       "      <th>age</th>\n",
       "    </tr>\n",
       "  </thead>\n",
       "  <tbody>\n",
       "    <tr>\n",
       "      <th>count</th>\n",
       "      <td>963.000000</td>\n",
       "      <td>1013.000000</td>\n",
       "      <td>1013.000000</td>\n",
       "      <td>1013.000000</td>\n",
       "      <td>1013.000000</td>\n",
       "      <td>1013.000000</td>\n",
       "      <td>1013.000000</td>\n",
       "      <td>1013.000000</td>\n",
       "      <td>1013.000000</td>\n",
       "    </tr>\n",
       "    <tr>\n",
       "      <th>mean</th>\n",
       "      <td>0.395639</td>\n",
       "      <td>0.467917</td>\n",
       "      <td>0.220138</td>\n",
       "      <td>0.238894</td>\n",
       "      <td>0.261599</td>\n",
       "      <td>0.313919</td>\n",
       "      <td>9.720632</td>\n",
       "      <td>1.229023</td>\n",
       "      <td>342.304047</td>\n",
       "    </tr>\n",
       "    <tr>\n",
       "      <th>std</th>\n",
       "      <td>0.489242</td>\n",
       "      <td>0.499216</td>\n",
       "      <td>0.414544</td>\n",
       "      <td>0.426619</td>\n",
       "      <td>0.439723</td>\n",
       "      <td>0.464313</td>\n",
       "      <td>2.396048</td>\n",
       "      <td>2.395414</td>\n",
       "      <td>120.245419</td>\n",
       "    </tr>\n",
       "    <tr>\n",
       "      <th>min</th>\n",
       "      <td>0.000000</td>\n",
       "      <td>0.000000</td>\n",
       "      <td>0.000000</td>\n",
       "      <td>0.000000</td>\n",
       "      <td>0.000000</td>\n",
       "      <td>0.000000</td>\n",
       "      <td>1.000000</td>\n",
       "      <td>0.000000</td>\n",
       "      <td>198.000000</td>\n",
       "    </tr>\n",
       "    <tr>\n",
       "      <th>25%</th>\n",
       "      <td>0.000000</td>\n",
       "      <td>0.000000</td>\n",
       "      <td>0.000000</td>\n",
       "      <td>0.000000</td>\n",
       "      <td>0.000000</td>\n",
       "      <td>0.000000</td>\n",
       "      <td>8.000000</td>\n",
       "      <td>0.000000</td>\n",
       "      <td>256.000000</td>\n",
       "    </tr>\n",
       "    <tr>\n",
       "      <th>50%</th>\n",
       "      <td>0.000000</td>\n",
       "      <td>0.000000</td>\n",
       "      <td>0.000000</td>\n",
       "      <td>0.000000</td>\n",
       "      <td>0.000000</td>\n",
       "      <td>0.000000</td>\n",
       "      <td>10.000000</td>\n",
       "      <td>0.000000</td>\n",
       "      <td>303.000000</td>\n",
       "    </tr>\n",
       "    <tr>\n",
       "      <th>75%</th>\n",
       "      <td>1.000000</td>\n",
       "      <td>1.000000</td>\n",
       "      <td>0.000000</td>\n",
       "      <td>0.000000</td>\n",
       "      <td>1.000000</td>\n",
       "      <td>1.000000</td>\n",
       "      <td>11.000000</td>\n",
       "      <td>1.000000</td>\n",
       "      <td>388.000000</td>\n",
       "    </tr>\n",
       "    <tr>\n",
       "      <th>max</th>\n",
       "      <td>1.000000</td>\n",
       "      <td>1.000000</td>\n",
       "      <td>1.000000</td>\n",
       "      <td>1.000000</td>\n",
       "      <td>1.000000</td>\n",
       "      <td>1.000000</td>\n",
       "      <td>18.000000</td>\n",
       "      <td>27.000000</td>\n",
       "      <td>933.000000</td>\n",
       "    </tr>\n",
       "  </tbody>\n",
       "</table>\n",
       "</div>"
      ],
      "text/plain": [
       "            recid        black      alcohol        drugs      married  \\\n",
       "count  963.000000  1013.000000  1013.000000  1013.000000  1013.000000   \n",
       "mean     0.395639     0.467917     0.220138     0.238894     0.261599   \n",
       "std      0.489242     0.499216     0.414544     0.426619     0.439723   \n",
       "min      0.000000     0.000000     0.000000     0.000000     0.000000   \n",
       "25%      0.000000     0.000000     0.000000     0.000000     0.000000   \n",
       "50%      0.000000     0.000000     0.000000     0.000000     0.000000   \n",
       "75%      1.000000     1.000000     0.000000     0.000000     1.000000   \n",
       "max      1.000000     1.000000     1.000000     1.000000     1.000000   \n",
       "\n",
       "             felon         educ        rules          age  \n",
       "count  1013.000000  1013.000000  1013.000000  1013.000000  \n",
       "mean      0.313919     9.720632     1.229023   342.304047  \n",
       "std       0.464313     2.396048     2.395414   120.245419  \n",
       "min       0.000000     1.000000     0.000000   198.000000  \n",
       "25%       0.000000     8.000000     0.000000   256.000000  \n",
       "50%       0.000000    10.000000     0.000000   303.000000  \n",
       "75%       1.000000    11.000000     1.000000   388.000000  \n",
       "max       1.000000    18.000000    27.000000   933.000000  "
      ]
     },
     "execution_count": 95,
     "metadata": {},
     "output_type": "execute_result"
    }
   ],
   "source": [
    "# Data import\n",
    "data = pd.read_csv('data/data_v4.csv', sep=';')\n",
    "data = data.astype(float)\n",
    "data.describe()"
   ]
  },
  {
   "cell_type": "code",
   "execution_count": 96,
   "metadata": {},
   "outputs": [
    {
     "data": {
      "image/png": "[encoded data removed]",
      "text/plain": [
       "<Figure size 640x480 with 1 Axes>"
      ]
     },
     "metadata": {},
     "output_type": "display_data"
    },
    {
     "data": {
      "image/png": "[encoded data removed]",
      "text/plain": [
       "<Figure size 640x480 with 1 Axes>"
      ]
     },
     "metadata": {},
     "output_type": "display_data"
    },
    {
     "data": {
      "image/png": "[encoded data removed]",
      "text/plain": [
       "<Figure size 640x480 with 1 Axes>"
      ]
     },
     "metadata": {},
     "output_type": "display_data"
    }
   ],
   "source": [
    "plt.hist(data['educ'], bins=10)\n",
    "plt.title('Education distribution')\n",
    "plt.show()\n",
    "\n",
    "plt.hist(data['rules'], bins=10)\n",
    "plt.title('Rules distribution')\n",
    "plt.show()\n",
    "\n",
    "plt.hist(data['age'], bins=10)\n",
    "plt.title('Age distribution')\n",
    "plt.show()"
   ]
  },
  {
   "cell_type": "code",
   "execution_count": 97,
   "metadata": {},
   "outputs": [
    {
     "name": "stdout",
     "output_type": "stream",
     "text": [
      "Educ bounds [0, 9.0, 11.0, 18.0]\n",
      "Rules bounds [0, 0.01, 1.0, 27.0]\n"
     ]
    }
   ],
   "source": [
    "GROUPS_COUNT = 3\n",
    "\n",
    "educ_bounds = [0]\n",
    "for i in range(1, GROUPS_COUNT + 1):\n",
    "    educ_bounds.append(data['educ'].quantile(i / GROUPS_COUNT))\n",
    "\n",
    "rules_bounds = [0]\n",
    "for i in range(1, GROUPS_COUNT + 1):\n",
    "    rules_bounds.append(data['rules'].quantile(i / GROUPS_COUNT))\n",
    "\n",
    "# TODO: fix\n",
    "rules_bounds[1] = 0.01\n",
    "\n",
    "print(\"Educ bounds\", educ_bounds)\n",
    "print(\"Rules bounds\", rules_bounds)"
   ]
  },
  {
   "cell_type": "code",
   "execution_count": 98,
   "metadata": {},
   "outputs": [
    {
     "name": "stdout",
     "output_type": "stream",
     "text": [
      "      educ_0_9.0  educ_9.0_11.0  educ_11.0_18.0\n",
      "0              1              0               0\n",
      "1              0              0               1\n",
      "2              1              0               0\n",
      "3              0              0               1\n",
      "4              0              0               1\n",
      "...          ...            ...             ...\n",
      "1008           1              0               0\n",
      "1009           0              0               1\n",
      "1010           0              0               1\n",
      "1011           0              0               1\n",
      "1012           1              0               0\n",
      "\n",
      "[1013 rows x 3 columns]\n",
      "      rules_0_0.01  rules_0.01_1.0  rules_1.0_27.0\n",
      "0                0               0               1\n",
      "1                0               0               0\n",
      "2                0               0               1\n",
      "3                0               0               0\n",
      "4                0               0               1\n",
      "...            ...             ...             ...\n",
      "1008             0               0               1\n",
      "1009             0               0               1\n",
      "1010             0               0               0\n",
      "1011             0               0               0\n",
      "1012             0               0               1\n",
      "\n",
      "[1013 rows x 3 columns]\n"
     ]
    }
   ],
   "source": [
    "# Education\n",
    "educ_dummies = pd.get_dummies(pd.cut(data['educ'], educ_bounds))\n",
    "educ_dummies_names = ['educ_' + str(educ_bounds[i]) + '_' + str(educ_bounds[i + 1]) for i in range(len(educ_bounds) - 1)]\n",
    "educ_dummies = educ_dummies.astype(int)\n",
    "educ_dummies.columns = educ_dummies_names\n",
    "print(educ_dummies)\n",
    "\n",
    "# Rules\n",
    "rules_dummies = pd.get_dummies(pd.cut(data['rules'], rules_bounds))\n",
    "rules_dummies_names = ['rules_' + str(rules_bounds[i]) + '_' + str(rules_bounds[i + 1]) for i in range(len(rules_bounds) - 1)]\n",
    "rules_dummies = rules_dummies.astype(int)\n",
    "rules_dummies.columns = rules_dummies_names\n",
    "print(rules_dummies)"
   ]
  },
  {
   "cell_type": "code",
   "execution_count": 99,
   "metadata": {},
   "outputs": [],
   "source": [
    "data_needed = data[['recid', 'age', 'black', 'married', 'alcohol']]\n",
    "data_w_d_col = pd.concat([data_needed, educ_dummies, rules_dummies], axis=1)\n",
    "data_w_d_uncol = pd.concat([data_needed, educ_dummies.drop(educ_dummies.columns[2], axis=1), rules_dummies.drop(rules_dummies.columns[0], axis=1)], axis=1)"
   ]
  },
  {
   "attachments": {},
   "cell_type": "markdown",
   "metadata": {},
   "source": [
    "Посчитаем линейную модель:"
   ]
  },
  {
   "cell_type": "code",
   "execution_count": 100,
   "metadata": {},
   "outputs": [
    {
     "name": "stdout",
     "output_type": "stream",
     "text": [
      "                            OLS Regression Results                            \n",
      "==============================================================================\n",
      "Dep. Variable:                  recid   R-squared:                       0.064\n",
      "Model:                            OLS   Adj. R-squared:                  0.056\n",
      "Method:                 Least Squares   F-statistic:                     8.124\n",
      "Date:                Sat, 10 Jun 2023   Prob (F-statistic):           1.16e-10\n",
      "Time:                        20:55:00   Log-Likelihood:                -645.76\n",
      "No. Observations:                 963   AIC:                             1310.\n",
      "Df Residuals:                     954   BIC:                             1353.\n",
      "Df Model:                           8                                         \n",
      "Covariance Type:            nonrobust                                         \n",
      "==================================================================================\n",
      "                     coef    std err          t      P>|t|      [0.025      0.975]\n",
      "----------------------------------------------------------------------------------\n",
      "const              0.3287      0.060      5.443      0.000       0.210       0.447\n",
      "age               -0.0003      0.000     -2.419      0.016      -0.001   -6.24e-05\n",
      "black              0.1240      0.031      3.938      0.000       0.062       0.186\n",
      "married           -0.0507      0.036     -1.407      0.160      -0.121       0.020\n",
      "alcohol            0.1325      0.038      3.485      0.001       0.058       0.207\n",
      "educ_0_9.0         0.0697      0.039      1.783      0.075      -0.007       0.146\n",
      "educ_9.0_11.0      0.0397      0.042      0.954      0.340      -0.042       0.121\n",
      "rules_0.01_1.0     0.0784      0.039      1.995      0.046       0.001       0.156\n",
      "rules_1.0_27.0     0.1953      0.038      5.104      0.000       0.120       0.270\n",
      "==============================================================================\n",
      "Omnibus:                     5600.591   Durbin-Watson:                   1.958\n",
      "Prob(Omnibus):                  0.000   Jarque-Bera (JB):              125.340\n",
      "Skew:                           0.389   Prob(JB):                     6.06e-28\n",
      "Kurtosis:                       1.413   Cond. No.                     1.66e+03\n",
      "==============================================================================\n",
      "\n",
      "Notes:\n",
      "[1] Standard Errors assume that the covariance matrix of the errors is correctly specified.\n",
      "[2] The condition number is large, 1.66e+03. This might indicate that there are\n",
      "strong multicollinearity or other numerical problems.\n"
     ]
    }
   ],
   "source": [
    "# Linear regression\n",
    "\n",
    "# Create X and y\n",
    "data_w_d_uncol_no_na = data_w_d_uncol.dropna()\n",
    "X = data_w_d_uncol_no_na.drop(['recid'], axis=1)\n",
    "y = data_w_d_uncol_no_na['recid']\n",
    "# Add constant\n",
    "X = sm.add_constant(X)\n",
    "\n",
    "# Fit model\n",
    "model_l = sm.OLS(y, X).fit()\n",
    "\n",
    "predictions = model_l.predict(X)\n",
    "\n",
    "# Print model summary\n",
    "print(model_l.summary())"
   ]
  },
  {
   "attachments": {},
   "cell_type": "markdown",
   "metadata": {},
   "source": [
    "Посчитаем модель Logit"
   ]
  },
  {
   "cell_type": "code",
   "execution_count": 101,
   "metadata": {},
   "outputs": [
    {
     "name": "stdout",
     "output_type": "stream",
     "text": [
      "Optimization terminated successfully.\n",
      "         Current function value: 0.638539\n",
      "         Iterations 5\n",
      "                           Logit Regression Results                           \n",
      "==============================================================================\n",
      "Dep. Variable:                  recid   No. Observations:                  963\n",
      "Model:                          Logit   Df Residuals:                      954\n",
      "Method:                           MLE   Df Model:                            8\n",
      "Date:                Sat, 10 Jun 2023   Pseudo R-squ.:                 0.04867\n",
      "Time:                        20:55:02   Log-Likelihood:                -614.91\n",
      "converged:                       True   LL-Null:                       -646.37\n",
      "Covariance Type:            nonrobust   LLR p-value:                 1.246e-10\n",
      "==================================================================================\n",
      "                     coef    std err          z      P>|z|      [0.025      0.975]\n",
      "----------------------------------------------------------------------------------\n",
      "const             -0.7110      0.278     -2.560      0.010      -1.255      -0.167\n",
      "age               -0.0016      0.001     -2.425      0.015      -0.003      -0.000\n",
      "black              0.5502      0.140      3.919      0.000       0.275       0.825\n",
      "married           -0.2276      0.163     -1.393      0.164      -0.548       0.093\n",
      "alcohol            0.5924      0.169      3.499      0.000       0.261       0.924\n",
      "educ_0_9.0         0.3121      0.176      1.769      0.077      -0.034       0.658\n",
      "educ_9.0_11.0      0.1751      0.186      0.940      0.347      -0.190       0.540\n",
      "rules_0.01_1.0     0.3509      0.174      2.020      0.043       0.010       0.691\n",
      "rules_1.0_27.0     0.8336      0.167      4.981      0.000       0.506       1.162\n",
      "==================================================================================\n"
     ]
    }
   ],
   "source": [
    "# Logit\n",
    "# Using same X and Y\n",
    "\n",
    "# Fit model\n",
    "l_model = sm.Logit(y, X).fit()\n",
    "\n",
    "predictions_l = l_model.predict(X)\n",
    "\n",
    "# Print model summary\n",
    "print(l_model.summary())"
   ]
  },
  {
   "attachments": {},
   "cell_type": "markdown",
   "metadata": {},
   "source": [
    "Посчитаем модель Probit"
   ]
  },
  {
   "cell_type": "code",
   "execution_count": 102,
   "metadata": {},
   "outputs": [
    {
     "name": "stdout",
     "output_type": "stream",
     "text": [
      "Optimization terminated successfully.\n",
      "         Current function value: 0.638493\n",
      "         Iterations 5\n",
      "                          Probit Regression Results                           \n",
      "==============================================================================\n",
      "Dep. Variable:                  recid   No. Observations:                  963\n",
      "Model:                         Probit   Df Residuals:                      954\n",
      "Method:                           MLE   Df Model:                            8\n",
      "Date:                Sat, 10 Jun 2023   Pseudo R-squ.:                 0.04873\n",
      "Time:                        20:55:04   Log-Likelihood:                -614.87\n",
      "converged:                       True   LL-Null:                       -646.37\n",
      "Covariance Type:            nonrobust   LLR p-value:                 1.198e-10\n",
      "==================================================================================\n",
      "                     coef    std err          z      P>|z|      [0.025      0.975]\n",
      "----------------------------------------------------------------------------------\n",
      "const             -0.4463      0.169     -2.647      0.008      -0.777      -0.116\n",
      "age               -0.0009      0.000     -2.415      0.016      -0.002      -0.000\n",
      "black              0.3390      0.086      3.945      0.000       0.171       0.507\n",
      "married           -0.1425      0.099     -1.433      0.152      -0.337       0.052\n",
      "alcohol            0.3649      0.103      3.539      0.000       0.163       0.567\n",
      "educ_0_9.0         0.1885      0.107      1.757      0.079      -0.022       0.399\n",
      "educ_9.0_11.0      0.1061      0.114      0.933      0.351      -0.117       0.329\n",
      "rules_0.01_1.0     0.2164      0.106      2.034      0.042       0.008       0.425\n",
      "rules_1.0_27.0     0.5169      0.103      5.001      0.000       0.314       0.719\n",
      "==================================================================================\n"
     ]
    }
   ],
   "source": [
    "# Probit\n",
    "\n",
    "probit_m = sm.Probit(y, X).fit()\n",
    "predict_prob = probit_m.predict(X)\n",
    "print(probit_m.summary())"
   ]
  },
  {
   "attachments": {},
   "cell_type": "markdown",
   "metadata": {},
   "source": [
    "## 2"
   ]
  },
  {
   "cell_type": "code",
   "execution_count": 103,
   "metadata": {},
   "outputs": [
    {
     "name": "stdout",
     "output_type": "stream",
     "text": [
      "                           Logit Regression Results                           \n",
      "==============================================================================\n",
      "Dep. Variable:                  recid   No. Observations:                  963\n",
      "Model:                          Logit   Df Residuals:                      954\n",
      "Method:                           MLE   Df Model:                            8\n",
      "Date:                Sat, 10 Jun 2023   Pseudo R-squ.:                 0.04867\n",
      "Time:                        20:55:06   Log-Likelihood:                -614.91\n",
      "converged:                       True   LL-Null:                       -646.37\n",
      "Covariance Type:            nonrobust   LLR p-value:                 1.246e-10\n",
      "==================================================================================\n",
      "                     coef    std err          z      P>|z|      [0.025      0.975]\n",
      "----------------------------------------------------------------------------------\n",
      "const             -0.7110      0.278     -2.560      0.010      -1.255      -0.167\n",
      "age               -0.0016      0.001     -2.425      0.015      -0.003      -0.000\n",
      "black              0.5502      0.140      3.919      0.000       0.275       0.825\n",
      "married           -0.2276      0.163     -1.393      0.164      -0.548       0.093\n",
      "alcohol            0.5924      0.169      3.499      0.000       0.261       0.924\n",
      "educ_0_9.0         0.3121      0.176      1.769      0.077      -0.034       0.658\n",
      "educ_9.0_11.0      0.1751      0.186      0.940      0.347      -0.190       0.540\n",
      "rules_0.01_1.0     0.3509      0.174      2.020      0.043       0.010       0.691\n",
      "rules_1.0_27.0     0.8336      0.167      4.981      0.000       0.506       1.162\n",
      "==================================================================================\n"
     ]
    }
   ],
   "source": [
    "print(l_model.summary())"
   ]
  },
  {
   "attachments": {},
   "cell_type": "markdown",
   "metadata": {},
   "source": [
    "Мы посчитали ков. матрицу оценок коэффициентов:"
   ]
  },
  {
   "cell_type": "code",
   "execution_count": 104,
   "metadata": {},
   "outputs": [
    {
     "data": {
      "text/html": [
       "<div>\n",
       "<style scoped>\n",
       "    .dataframe tbody tr th:only-of-type {\n",
       "        vertical-align: middle;\n",
       "    }\n",
       "\n",
       "    .dataframe tbody tr th {\n",
       "        vertical-align: top;\n",
       "    }\n",
       "\n",
       "    .dataframe thead th {\n",
       "        text-align: right;\n",
       "    }\n",
       "</style>\n",
       "<table border=\"1\" class=\"dataframe\">\n",
       "  <thead>\n",
       "    <tr style=\"text-align: right;\">\n",
       "      <th></th>\n",
       "      <th>const</th>\n",
       "      <th>age</th>\n",
       "      <th>black</th>\n",
       "      <th>married</th>\n",
       "      <th>alcohol</th>\n",
       "      <th>educ_0_9.0</th>\n",
       "      <th>educ_9.0_11.0</th>\n",
       "      <th>rules_0.01_1.0</th>\n",
       "      <th>rules_1.0_27.0</th>\n",
       "    </tr>\n",
       "  </thead>\n",
       "  <tbody>\n",
       "    <tr>\n",
       "      <th>const</th>\n",
       "      <td>0.077123</td>\n",
       "      <td>-1.336566e-04</td>\n",
       "      <td>-0.009687</td>\n",
       "      <td>1.054854e-03</td>\n",
       "      <td>-0.000319</td>\n",
       "      <td>-0.019965</td>\n",
       "      <td>-2.341318e-02</td>\n",
       "      <td>-0.012865</td>\n",
       "      <td>-0.013731</td>\n",
       "    </tr>\n",
       "    <tr>\n",
       "      <th>age</th>\n",
       "      <td>-0.000134</td>\n",
       "      <td>4.143880e-07</td>\n",
       "      <td>-0.000005</td>\n",
       "      <td>-2.168077e-05</td>\n",
       "      <td>-0.000025</td>\n",
       "      <td>-0.000004</td>\n",
       "      <td>1.357773e-05</td>\n",
       "      <td>0.000006</td>\n",
       "      <td>0.000012</td>\n",
       "    </tr>\n",
       "    <tr>\n",
       "      <th>black</th>\n",
       "      <td>-0.009687</td>\n",
       "      <td>-4.632253e-06</td>\n",
       "      <td>0.019713</td>\n",
       "      <td>8.000318e-04</td>\n",
       "      <td>0.003163</td>\n",
       "      <td>0.002452</td>\n",
       "      <td>-1.945243e-03</td>\n",
       "      <td>0.000071</td>\n",
       "      <td>0.001004</td>\n",
       "    </tr>\n",
       "    <tr>\n",
       "      <th>married</th>\n",
       "      <td>0.001055</td>\n",
       "      <td>-2.168077e-05</td>\n",
       "      <td>0.000800</td>\n",
       "      <td>2.668565e-02</td>\n",
       "      <td>-0.001660</td>\n",
       "      <td>-0.000557</td>\n",
       "      <td>-3.234015e-07</td>\n",
       "      <td>-0.000933</td>\n",
       "      <td>0.000507</td>\n",
       "    </tr>\n",
       "    <tr>\n",
       "      <th>alcohol</th>\n",
       "      <td>-0.000319</td>\n",
       "      <td>-2.519844e-05</td>\n",
       "      <td>0.003163</td>\n",
       "      <td>-1.659814e-03</td>\n",
       "      <td>0.028670</td>\n",
       "      <td>0.000029</td>\n",
       "      <td>-7.577476e-04</td>\n",
       "      <td>0.002093</td>\n",
       "      <td>0.002794</td>\n",
       "    </tr>\n",
       "    <tr>\n",
       "      <th>educ_0_9.0</th>\n",
       "      <td>-0.019965</td>\n",
       "      <td>-3.903795e-06</td>\n",
       "      <td>0.002452</td>\n",
       "      <td>-5.574345e-04</td>\n",
       "      <td>0.000029</td>\n",
       "      <td>0.031128</td>\n",
       "      <td>1.965815e-02</td>\n",
       "      <td>0.002085</td>\n",
       "      <td>-0.001214</td>\n",
       "    </tr>\n",
       "    <tr>\n",
       "      <th>educ_9.0_11.0</th>\n",
       "      <td>-0.023413</td>\n",
       "      <td>1.357773e-05</td>\n",
       "      <td>-0.001945</td>\n",
       "      <td>-3.234015e-07</td>\n",
       "      <td>-0.000758</td>\n",
       "      <td>0.019658</td>\n",
       "      <td>3.472780e-02</td>\n",
       "      <td>0.001142</td>\n",
       "      <td>-0.001272</td>\n",
       "    </tr>\n",
       "    <tr>\n",
       "      <th>rules_0.01_1.0</th>\n",
       "      <td>-0.012865</td>\n",
       "      <td>6.316668e-06</td>\n",
       "      <td>0.000071</td>\n",
       "      <td>-9.330396e-04</td>\n",
       "      <td>0.002093</td>\n",
       "      <td>0.002085</td>\n",
       "      <td>1.142350e-03</td>\n",
       "      <td>0.030183</td>\n",
       "      <td>0.009358</td>\n",
       "    </tr>\n",
       "    <tr>\n",
       "      <th>rules_1.0_27.0</th>\n",
       "      <td>-0.013731</td>\n",
       "      <td>1.220549e-05</td>\n",
       "      <td>0.001004</td>\n",
       "      <td>5.073768e-04</td>\n",
       "      <td>0.002794</td>\n",
       "      <td>-0.001214</td>\n",
       "      <td>-1.271909e-03</td>\n",
       "      <td>0.009358</td>\n",
       "      <td>0.028014</td>\n",
       "    </tr>\n",
       "  </tbody>\n",
       "</table>\n",
       "</div>"
      ],
      "text/plain": [
       "                   const           age     black       married   alcohol  \\\n",
       "const           0.077123 -1.336566e-04 -0.009687  1.054854e-03 -0.000319   \n",
       "age            -0.000134  4.143880e-07 -0.000005 -2.168077e-05 -0.000025   \n",
       "black          -0.009687 -4.632253e-06  0.019713  8.000318e-04  0.003163   \n",
       "married         0.001055 -2.168077e-05  0.000800  2.668565e-02 -0.001660   \n",
       "alcohol        -0.000319 -2.519844e-05  0.003163 -1.659814e-03  0.028670   \n",
       "educ_0_9.0     -0.019965 -3.903795e-06  0.002452 -5.574345e-04  0.000029   \n",
       "educ_9.0_11.0  -0.023413  1.357773e-05 -0.001945 -3.234015e-07 -0.000758   \n",
       "rules_0.01_1.0 -0.012865  6.316668e-06  0.000071 -9.330396e-04  0.002093   \n",
       "rules_1.0_27.0 -0.013731  1.220549e-05  0.001004  5.073768e-04  0.002794   \n",
       "\n",
       "                educ_0_9.0  educ_9.0_11.0  rules_0.01_1.0  rules_1.0_27.0  \n",
       "const            -0.019965  -2.341318e-02       -0.012865       -0.013731  \n",
       "age              -0.000004   1.357773e-05        0.000006        0.000012  \n",
       "black             0.002452  -1.945243e-03        0.000071        0.001004  \n",
       "married          -0.000557  -3.234015e-07       -0.000933        0.000507  \n",
       "alcohol           0.000029  -7.577476e-04        0.002093        0.002794  \n",
       "educ_0_9.0        0.031128   1.965815e-02        0.002085       -0.001214  \n",
       "educ_9.0_11.0     0.019658   3.472780e-02        0.001142       -0.001272  \n",
       "rules_0.01_1.0    0.002085   1.142350e-03        0.030183        0.009358  \n",
       "rules_1.0_27.0   -0.001214  -1.271909e-03        0.009358        0.028014  "
      ]
     },
     "metadata": {},
     "output_type": "display_data"
    }
   ],
   "source": [
    "matrix = l_model.cov_params()\n",
    "display(matrix)"
   ]
  },
  {
   "attachments": {},
   "cell_type": "markdown",
   "metadata": {},
   "source": [
    "## 3"
   ]
  },
  {
   "cell_type": "code",
   "execution_count": 109,
   "metadata": {},
   "outputs": [
    {
     "data": {
      "text/plain": [
       "0.22385795185446292"
      ]
     },
     "metadata": {},
     "output_type": "display_data"
    },
    {
     "data": {
      "text/plain": [
       "0.22389577297113405"
      ]
     },
     "metadata": {},
     "output_type": "display_data"
    },
    {
     "data": {
      "text/plain": [
       "0.2238836501778075"
      ]
     },
     "metadata": {},
     "output_type": "display_data"
    }
   ],
   "source": [
    "df = pd.DataFrame(X)\n",
    "# test = sm.add_constant(df.drop('recid', axis=1))\n",
    "\n",
    "l_p = model_l.predict(df)\n",
    "\n",
    "display(mean_squared_error(y, l_p[:y.size]))\n",
    "\n",
    "log_p = l_model.predict(df)\n",
    "display(mean_squared_error(y, log_p[:y.size]))\n",
    "\n",
    "p_p = probit_m.predict(df)\n",
    "display(mean_squared_error(y, p_p[:y.size]))"
   ]
  },
  {
   "cell_type": "code",
   "execution_count": 117,
   "metadata": {},
   "outputs": [
    {
     "name": "stdout",
     "output_type": "stream",
     "text": [
      "False\n",
      "0.04776739356178609\n",
      "0.0529595015576324\n",
      "0.0529595015576324\n",
      "5\n",
      "0\n"
     ]
    }
   ],
   "source": [
    "# TODO: Fix\n",
    "f, s, t = set(), set(), set()\n",
    "for i in range(y.size):\n",
    "    er_1 = ((predictions[i] - y[i]) ** 2)\n",
    "    er_2 = ((predictions_l[i] - y[i]) ** 2)\n",
    "    er_3 = ((predict_prob[i] - y[i]) ** 2)\n",
    "    if (er_1) > 0.5: \n",
    "        f.add(i)\n",
    "    if (er_2) > 0.5: \n",
    "        s.add(i)\n",
    "    if (er_3) > 0.5: \n",
    "        t.add(i)\n",
    "\n",
    "if f == s and s == t:\n",
    "    print(True)\n",
    "else:\n",
    "    print(False)\n",
    "\n",
    "print(len(f)/y.size)\n",
    "print(len(s)/y.size)\n",
    "print(len(t)/y.size)\n",
    "\n",
    "print(len(s.difference(f)))\n",
    "print(len(t.difference(s)))"
   ]
  },
  {
   "attachments": {},
   "cell_type": "markdown",
   "metadata": {},
   "source": [
    "## 4"
   ]
  },
  {
   "cell_type": "code",
   "execution_count": 122,
   "metadata": {},
   "outputs": [
    {
     "name": "stdout",
     "output_type": "stream",
     "text": [
      "62.999951982274524\n",
      "0.0000000001198089\n"
     ]
    }
   ],
   "source": [
    "n_m = sm.Probit(y, np.ones(y.shape[0])).fit(disp=0)\n",
    "LR = -2 * (n_m.llf - probit_m.llf)\n",
    "\n",
    "p_value = chi2.sf(LR, df=probit_m.df_model)\n",
    "print(LR)\n",
    "print(f\"{p_value:.16f}\")"
   ]
  },
  {
   "attachments": {},
   "cell_type": "markdown",
   "metadata": {},
   "source": []
  },
  {
   "attachments": {},
   "cell_type": "markdown",
   "metadata": {},
   "source": []
  },
  {
   "attachments": {},
   "cell_type": "markdown",
   "metadata": {},
   "source": [
    "## 5"
   ]
  },
  {
   "cell_type": "code",
   "execution_count": 125,
   "metadata": {},
   "outputs": [
    {
     "data": {
      "image/png": "[encoded data removed]",
      "text/plain": [
       "<Figure size 1000x700 with 1 Axes>"
      ]
     },
     "metadata": {},
     "output_type": "display_data"
    },
    {
     "name": "stdout",
     "output_type": "stream",
     "text": [
      "0.31313131313131315\n",
      "0.36769759450171824\n"
     ]
    }
   ],
   "source": [
    "from sklearn.metrics import confusion_matrix\n",
    "\n",
    "sensitivity = []\n",
    "specificity = []\n",
    "\n",
    "tresholds = np.linspace(0, 1, 100)\n",
    "\n",
    "for c in tresholds:\n",
    "    y_pred = np.where(p_p[:y.size] > c, 1, 0)\n",
    "    tn, fp, fn, tp = confusion_matrix(y_pred=y_pred, y_true=y).ravel()\n",
    "    \n",
    "    sensitivity.append(tp / (tp + fn))\n",
    "    specificity.append(tn / (tn + fp))\n",
    "\n",
    "plt.figure(figsize=(10, 7))\n",
    "plt.plot(tresholds, sensitivity, label=\"Sensitivity\")\n",
    "plt.plot(tresholds, specificity, label=\"Specificity\")\n",
    "plt.xlabel('Thresholds (c)')\n",
    "plt.ylabel('Value')\n",
    "plt.title('Sensitivity and Specificity for diff. thresholds')\n",
    "plt.legend()\n",
    "plt.grid()\n",
    "plt.xticks(np.arange(0, 1.1, 0.1))\n",
    "plt.yticks(np.arange(0, 1.1, 0.1))\n",
    "plt.show()\n",
    "\n",
    "sensitivity = np.array(sensitivity)\n",
    "specificity = np.array(specificity)\n",
    "\n",
    "c = tresholds[sensitivity >= 0.8][-1]\n",
    "\n",
    "spec_at_send_80 = specificity[sensitivity >= 0.8][-1]\n",
    "\n",
    "print(c)\n",
    "print(spec_at_send_80)"
   ]
  }
 ],
 "metadata": {
  "kernelspec": {
   "display_name": "Python 3",
   "language": "python",
   "name": "python3"
  },
  "language_info": {
   "codemirror_mode": {
    "name": "ipython",
    "version": 3
   },
   "file_extension": ".py",
   "mimetype": "text/x-python",
   "name": "python",
   "nbconvert_exporter": "python",
   "pygments_lexer": "ipython3",
   "version": "3.11.4"
  },
  "orig_nbformat": 4
 },
 "nbformat": 4,
 "nbformat_minor": 2
}
